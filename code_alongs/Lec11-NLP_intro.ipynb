{
 "cells": [
  {
   "attachments": {},
   "cell_type": "markdown",
   "metadata": {},
   "source": [
    "<a href=\"https://colab.research.google.com/github/kokchun/Machine-learning-AI22/blob/main/Lecture_code/Lec11-NLP_intro.ipynb\" target=\"_parent\"><img align=\"left\" src=\"https://colab.research.google.com/assets/colab-badge.svg\" alt=\"Open In Colab\"/></a> &nbsp; for interacting with the code\n"
   ]
  },
  {
   "cell_type": "markdown",
   "metadata": {},
   "source": [
    "---\n",
    "# Lecture notes - NLP intro - text feature extraction\n",
    "---\n",
    "\n",
    "This is the lecture note for **NLP intro**, more on text feature extraction and preprocessing will be given in the NLP section of the deep learning course. \n",
    "\n",
    "<p class = \"alert alert-info\" role=\"alert\"><b>Note</b> that this lecture note gives a brief introduction to NLP with focus on text extraction. I encourage you to read further about text text feature extraction. </p>\n",
    "\n",
    "Read more:\n",
    "- [Bag-of-words model - wikipedia](https://en.wikipedia.org/wiki/Bag-of-words_model)\n",
    "- [TF-IDF - wikipedia](https://en.wikipedia.org/wiki/Tf%E2%80%93idf)\n",
    "- [Sparse matrix - wikipedia](https://en.wikipedia.org/wiki/Sparse_matrix)\n",
    "- [Bag-of-words - sklearn](https://scikit-learn.org/stable/modules/feature_extraction.html?highlight=tfidf#text-feature-extraction)\n",
    "- [CountVectorizer - sklearn](https://scikit-learn.org/stable/modules/generated/sklearn.feature_extraction.text.CountVectorizer.html?highlight=countvectorizer#sklearn.feature_extraction.text.CountVectorizer)\n",
    "- [TfidfTransformer - sklearn](https://scikit-learn.org/stable/modules/generated/sklearn.feature_extraction.text.TfidfTransformer.html?highlight=tfidftransformer#sklearn.feature_extraction.text.TfidfTransformer)\n",
    "- [Tfidfvectorizer - sklearn](https://scikit-learn.org/stable/modules/generated/sklearn.feature_extraction.text.TfidfVectorizer.html)\n",
    "- [Sparse matrix - SciPy](https://docs.scipy.org/doc/scipy/reference/sparse.html)\n",
    "---\n"
   ]
  },
  {
   "cell_type": "markdown",
   "metadata": {},
   "source": [
    "## Term frequency\n",
    "term frequency $tf(t,d)$ - relative frequency of term $t$ in document $d$, i.e. how frequent a term occurs in a document\n",
    "\n",
    "$$tf(t,d) = \\frac{f_{t,d}}{\\sum_{t'\\in d} f_{t',d}}$$\n",
    "\n",
    ", where $f_{t,d}$ the raw count, is the amount of time the term $t$ is in document $d$. The denominator is the total number of terms in the document. Also $tf(t,d)$ could be defined in several ways, and a simple way is to just equate it to the raw frequency count."
   ]
  },
  {
   "cell_type": "code",
   "execution_count": 12,
   "metadata": {},
   "outputs": [
    {
     "data": {
      "text/plain": [
       "['I LOVE this book about love', 'No this book was okay']"
      ]
     },
     "execution_count": 12,
     "metadata": {},
     "output_type": "execute_result"
    }
   ],
   "source": [
    "import numpy as np \n",
    "\n",
    "review1 = \"I LOVE this book about love\"\n",
    "review2 = \"No this book was okay\"\n",
    "\n",
    "[text for text in [review1, review2]]"
   ]
  },
  {
   "cell_type": "code",
   "execution_count": 24,
   "metadata": {},
   "outputs": [
    {
     "data": {
      "text/plain": [
       "['i love this book about love', 'no this book was okay']"
      ]
     },
     "execution_count": 24,
     "metadata": {},
     "output_type": "execute_result"
    }
   ],
   "source": [
    "[text.lower() for text in [review1, review2]]"
   ]
  },
  {
   "cell_type": "code",
   "execution_count": 39,
   "metadata": {},
   "outputs": [
    {
     "data": {
      "text/plain": [
       "[['i', 'love', 'this', 'book', 'about', 'love'],\n",
       " ['no', 'this', 'book', 'was', 'okay']]"
      ]
     },
     "execution_count": 39,
     "metadata": {},
     "output_type": "execute_result"
    }
   ],
   "source": [
    "[text.lower().split() for text in [review1, review2]]"
   ]
  },
  {
   "cell_type": "code",
   "execution_count": 25,
   "metadata": {},
   "outputs": [
    {
     "name": "stdout",
     "output_type": "stream",
     "text": [
      "[['i', 'love', 'this', 'book', 'about', 'love'], ['no', 'this', 'book', 'was', 'okay']]\n"
     ]
    }
   ],
   "source": [
    "all_words = [text.lower().split() for text in [review1, review2]]\n",
    "print(all_words)"
   ]
  },
  {
   "cell_type": "code",
   "execution_count": 26,
   "metadata": {},
   "outputs": [
    {
     "data": {
      "text/plain": [
       "['i',\n",
       " 'love',\n",
       " 'this',\n",
       " 'book',\n",
       " 'about',\n",
       " 'love',\n",
       " 'no',\n",
       " 'this',\n",
       " 'book',\n",
       " 'was',\n",
       " 'okay']"
      ]
     },
     "execution_count": 26,
     "metadata": {},
     "output_type": "execute_result"
    }
   ],
   "source": [
    "# flattens 2D list to 1D list \n",
    "all_words = [word for text in all_words for word in text]\n",
    "all_words"
   ]
  },
  {
   "cell_type": "code",
   "execution_count": 28,
   "metadata": {},
   "outputs": [
    {
     "data": {
      "text/plain": [
       "{'about', 'book', 'i', 'love', 'no', 'okay', 'this', 'was'}"
      ]
     },
     "execution_count": 28,
     "metadata": {},
     "output_type": "execute_result"
    }
   ],
   "source": [
    "set(all_words) # ger unika ord, har ingen inbördes ordning, returnerar type -set"
   ]
  },
  {
   "cell_type": "code",
   "execution_count": 32,
   "metadata": {},
   "outputs": [
    {
     "data": {
      "text/plain": [
       "{'about', 'book', 'i', 'love', 'no', 'okay', 'this', 'was'}"
      ]
     },
     "execution_count": 32,
     "metadata": {},
     "output_type": "execute_result"
    }
   ],
   "source": [
    "# removes all copies, but sets don't have any particular ordering \n",
    "unique_words = set(all_words)\n",
    "unique_words"
   ]
  },
  {
   "cell_type": "code",
   "execution_count": 33,
   "metadata": {},
   "outputs": [
    {
     "data": {
      "text/plain": [
       "(list, set)"
      ]
     },
     "execution_count": 33,
     "metadata": {},
     "output_type": "execute_result"
    }
   ],
   "source": [
    "type(all_words), type(unique_words)"
   ]
  },
  {
   "cell_type": "code",
   "execution_count": 37,
   "metadata": {},
   "outputs": [
    {
     "data": {
      "text/plain": [
       "{'about': 0,\n",
       " 'i': 1,\n",
       " 'this': 2,\n",
       " 'no': 3,\n",
       " 'love': 4,\n",
       " 'book': 5,\n",
       " 'was': 6,\n",
       " 'okay': 7}"
      ]
     },
     "execution_count": 37,
     "metadata": {},
     "output_type": "execute_result"
    }
   ],
   "source": [
    "# ordningen kommer vara olika på olika datorer\n",
    "# skapar dict med word som keys och index som value dvs word:index par\n",
    "{word: index for index, word in enumerate(unique_words)}"
   ]
  },
  {
   "cell_type": "code",
   "execution_count": 38,
   "metadata": {},
   "outputs": [
    {
     "name": "stdout",
     "output_type": "stream",
     "text": [
      "{'about': 0, 'i': 1, 'this': 2, 'no': 3, 'love': 4, 'book': 5, 'was': 6, 'okay': 7}\n"
     ]
    }
   ],
   "source": [
    "# dictionary of all words \n",
    "vocabulary = {word: index for index, word in enumerate(unique_words)}\n",
    "print(vocabulary)"
   ]
  },
  {
   "cell_type": "code",
   "execution_count": 41,
   "metadata": {},
   "outputs": [
    {
     "data": {
      "text/plain": [
       "2"
      ]
     },
     "execution_count": 41,
     "metadata": {},
     "output_type": "execute_result"
    }
   ],
   "source": [
    "# to get index write dict_name[key], for example:\n",
    "vocabulary['this']"
   ]
  },
  {
   "cell_type": "code",
   "execution_count": 47,
   "metadata": {},
   "outputs": [
    {
     "name": "stdout",
     "output_type": "stream",
     "text": [
      "{'about': 0, 'i': 1, 'this': 2, 'no': 3, 'love': 4, 'book': 5, 'was': 6, 'okay': 7}\n"
     ]
    },
    {
     "data": {
      "text/plain": [
       "(array([1., 1., 1., 0., 2., 1., 0., 0.]),\n",
       " array([0., 0., 1., 1., 0., 1., 1., 1.]))"
      ]
     },
     "execution_count": 47,
     "metadata": {},
     "output_type": "execute_result"
    }
   ],
   "source": [
    "# vocalbulary corresponds to corpus of documents\n",
    "def term_frequency_vectorizer(document, vocabulary): \n",
    "    term_frequency = np.zeros(len(vocabulary)) # vector of zeroes\n",
    "\n",
    "    for word in document.lower().split():\n",
    "        index = vocabulary[word]\n",
    "        term_frequency[index] += 1\n",
    "\n",
    "    return term_frequency\n",
    "    \n",
    "\n",
    "# note that we consider the raw count itself and not divide by total number of terms in the document\n",
    "# this is another way to define the term frequency and more simplistic to ease understanding\n",
    "review1_term_freq = term_frequency_vectorizer(review1, vocabulary)\n",
    "review2_term_freq = term_frequency_vectorizer(review2, vocabulary)\n",
    "\n",
    "print(vocabulary)\n",
    "#review1 = \"I LOVE this book about love\"\n",
    "#review2 = \"No this book was okay\"\n",
    "review1_term_freq, review2_term_freq"
   ]
  },
  {
   "cell_type": "code",
   "execution_count": 45,
   "metadata": {},
   "outputs": [
    {
     "data": {
      "text/html": [
       "<div>\n",
       "<style scoped>\n",
       "    .dataframe tbody tr th:only-of-type {\n",
       "        vertical-align: middle;\n",
       "    }\n",
       "\n",
       "    .dataframe tbody tr th {\n",
       "        vertical-align: top;\n",
       "    }\n",
       "\n",
       "    .dataframe thead th {\n",
       "        text-align: right;\n",
       "    }\n",
       "</style>\n",
       "<table border=\"1\" class=\"dataframe\">\n",
       "  <thead>\n",
       "    <tr style=\"text-align: right;\">\n",
       "      <th></th>\n",
       "      <th>about</th>\n",
       "      <th>i</th>\n",
       "      <th>this</th>\n",
       "      <th>no</th>\n",
       "      <th>love</th>\n",
       "      <th>book</th>\n",
       "      <th>was</th>\n",
       "      <th>okay</th>\n",
       "    </tr>\n",
       "  </thead>\n",
       "  <tbody>\n",
       "    <tr>\n",
       "      <th>0</th>\n",
       "      <td>1</td>\n",
       "      <td>1</td>\n",
       "      <td>1</td>\n",
       "      <td>0</td>\n",
       "      <td>2</td>\n",
       "      <td>1</td>\n",
       "      <td>0</td>\n",
       "      <td>0</td>\n",
       "    </tr>\n",
       "    <tr>\n",
       "      <th>1</th>\n",
       "      <td>0</td>\n",
       "      <td>0</td>\n",
       "      <td>1</td>\n",
       "      <td>1</td>\n",
       "      <td>0</td>\n",
       "      <td>1</td>\n",
       "      <td>1</td>\n",
       "      <td>1</td>\n",
       "    </tr>\n",
       "  </tbody>\n",
       "</table>\n",
       "</div>"
      ],
      "text/plain": [
       "   about  i  this  no  love  book  was  okay\n",
       "0      1  1     1   0     2     1    0     0\n",
       "1      0  0     1   1     0     1    1     1"
      ]
     },
     "execution_count": 45,
     "metadata": {},
     "output_type": "execute_result"
    }
   ],
   "source": [
    "# skapa bag of words\n",
    "import pandas as pd\n",
    "\n",
    "bag_of_words = pd.DataFrame([review1_term_freq, review2_term_freq],\n",
    "                            columns=vocabulary.keys(), dtype=\"int16\")\n",
    "bag_of_words"
   ]
  },
  {
   "cell_type": "markdown",
   "metadata": {},
   "source": [
    "---\n",
    "## TF-IDF \n",
    "- Term frequency - inverse document frequency\n",
    "- TF-IDF is a way to represent how important a word is across a corpus of documents. Basically it is a vector with numeric weights on each word, where higher weights is put on rarer terms.\n",
    "\n",
    "The inverse document frequency $idf(t,D)$ gives information on the rarity of the word in all documents $D$.\n",
    "$$idf(t,D) = \\log{\\frac{|D|}{1+|\\{d\\in D: t\\in d\\}|}}$$\n",
    "\n",
    ", where $|D|$ is the number of documents in the corpus, $1+|\\{d\\in D: t\\in d\\}|$ \n",
    "is the number of documents where the word $t$ occurs, we add 1 to avoid division by zero in case the word is not in the corpus.\n",
    "\n",
    "$$tfidf(t,d,D) = tf(t,d)\\cdot idf(t,D) $$"
   ]
  },
  {
   "attachments": {},
   "cell_type": "markdown",
   "metadata": {},
   "source": [
    "---\n",
    "### Bag of words - Feature extraction with sklearn\n",
    "- CountVectorizer - creates a bag of words model\n",
    "- TfidfTransformer - transforms it using TF-IDF\n",
    "- TfidfVectorizer - does CountVectorizer and TfidfTransformer"
   ]
  },
  {
   "cell_type": "code",
   "execution_count": 55,
   "metadata": {},
   "outputs": [
    {
     "data": {
      "text/plain": [
       "(matrix([[1, 1, 2, 0, 0, 1, 0],\n",
       "         [0, 1, 0, 1, 1, 1, 1]], dtype=int64),\n",
       " array(['about', 'book', 'love', 'no', 'okay', 'this', 'was'], dtype=object))"
      ]
     },
     "execution_count": 55,
     "metadata": {},
     "output_type": "execute_result"
    }
   ],
   "source": [
    "from sklearn.feature_extraction.text import CountVectorizer\n",
    "\n",
    "count_vectorizer = CountVectorizer()\n",
    "bag_of_words_sparse = count_vectorizer.fit_transform([review1, review2])\n",
    "bag_of_words_sparse.todense(), count_vectorizer.get_feature_names_out()"
   ]
  },
  {
   "cell_type": "code",
   "execution_count": 56,
   "metadata": {},
   "outputs": [
    {
     "data": {
      "text/html": [
       "<div>\n",
       "<style scoped>\n",
       "    .dataframe tbody tr th:only-of-type {\n",
       "        vertical-align: middle;\n",
       "    }\n",
       "\n",
       "    .dataframe tbody tr th {\n",
       "        vertical-align: top;\n",
       "    }\n",
       "\n",
       "    .dataframe thead th {\n",
       "        text-align: right;\n",
       "    }\n",
       "</style>\n",
       "<table border=\"1\" class=\"dataframe\">\n",
       "  <thead>\n",
       "    <tr style=\"text-align: right;\">\n",
       "      <th></th>\n",
       "      <th>about</th>\n",
       "      <th>book</th>\n",
       "      <th>love</th>\n",
       "      <th>no</th>\n",
       "      <th>okay</th>\n",
       "      <th>this</th>\n",
       "      <th>was</th>\n",
       "    </tr>\n",
       "  </thead>\n",
       "  <tbody>\n",
       "    <tr>\n",
       "      <th>0</th>\n",
       "      <td>1</td>\n",
       "      <td>1</td>\n",
       "      <td>2</td>\n",
       "      <td>0</td>\n",
       "      <td>0</td>\n",
       "      <td>1</td>\n",
       "      <td>0</td>\n",
       "    </tr>\n",
       "    <tr>\n",
       "      <th>1</th>\n",
       "      <td>0</td>\n",
       "      <td>1</td>\n",
       "      <td>0</td>\n",
       "      <td>1</td>\n",
       "      <td>1</td>\n",
       "      <td>1</td>\n",
       "      <td>1</td>\n",
       "    </tr>\n",
       "  </tbody>\n",
       "</table>\n",
       "</div>"
      ],
      "text/plain": [
       "   about  book  love  no  okay  this  was\n",
       "0      1     1     2   0     0     1    0\n",
       "1      0     1     0   1     1     1    1"
      ]
     },
     "execution_count": 56,
     "metadata": {},
     "output_type": "execute_result"
    }
   ],
   "source": [
    "# note that it ignores one letter words such as I \n",
    "bag_of_words_sklearn = pd.DataFrame(bag_of_words_sparse.todense(), columns = count_vectorizer.get_feature_names_out())\n",
    "bag_of_words_sklearn"
   ]
  },
  {
   "cell_type": "code",
   "execution_count": 57,
   "metadata": {},
   "outputs": [
    {
     "data": {
      "text/html": [
       "<div>\n",
       "<style scoped>\n",
       "    .dataframe tbody tr th:only-of-type {\n",
       "        vertical-align: middle;\n",
       "    }\n",
       "\n",
       "    .dataframe tbody tr th {\n",
       "        vertical-align: top;\n",
       "    }\n",
       "\n",
       "    .dataframe thead th {\n",
       "        text-align: right;\n",
       "    }\n",
       "</style>\n",
       "<table border=\"1\" class=\"dataframe\">\n",
       "  <thead>\n",
       "    <tr style=\"text-align: right;\">\n",
       "      <th></th>\n",
       "      <th>about</th>\n",
       "      <th>i</th>\n",
       "      <th>this</th>\n",
       "      <th>no</th>\n",
       "      <th>love</th>\n",
       "      <th>book</th>\n",
       "      <th>was</th>\n",
       "      <th>okay</th>\n",
       "    </tr>\n",
       "  </thead>\n",
       "  <tbody>\n",
       "    <tr>\n",
       "      <th>0</th>\n",
       "      <td>1</td>\n",
       "      <td>1</td>\n",
       "      <td>1</td>\n",
       "      <td>0</td>\n",
       "      <td>2</td>\n",
       "      <td>1</td>\n",
       "      <td>0</td>\n",
       "      <td>0</td>\n",
       "    </tr>\n",
       "    <tr>\n",
       "      <th>1</th>\n",
       "      <td>0</td>\n",
       "      <td>0</td>\n",
       "      <td>1</td>\n",
       "      <td>1</td>\n",
       "      <td>0</td>\n",
       "      <td>1</td>\n",
       "      <td>1</td>\n",
       "      <td>1</td>\n",
       "    </tr>\n",
       "  </tbody>\n",
       "</table>\n",
       "</div>"
      ],
      "text/plain": [
       "   about  i  this  no  love  book  was  okay\n",
       "0      1  1     1   0     2     1    0     0\n",
       "1      0  0     1   1     0     1    1     1"
      ]
     },
     "execution_count": 57,
     "metadata": {},
     "output_type": "execute_result"
    }
   ],
   "source": [
    "# result from the manual construction of bag of words\n",
    "bag_of_words"
   ]
  },
  {
   "cell_type": "markdown",
   "metadata": {},
   "source": [
    "### TF-IDF"
   ]
  },
  {
   "cell_type": "code",
   "execution_count": 61,
   "metadata": {},
   "outputs": [
    {
     "data": {
      "text/plain": [
       "matrix([[0.4078241 , 0.29017021, 0.81564821, 0.        , 0.        ,\n",
       "         0.29017021, 0.        ],\n",
       "        [0.        , 0.35520009, 0.        , 0.49922133, 0.49922133,\n",
       "         0.35520009, 0.49922133]])"
      ]
     },
     "execution_count": 61,
     "metadata": {},
     "output_type": "execute_result"
    }
   ],
   "source": [
    "from sklearn.feature_extraction.text import TfidfVectorizer\n",
    "\n",
    "# same results but, done in one go\n",
    "\n",
    "tfidf_vectorizer = TfidfVectorizer()\n",
    "tfidf_vectorizer.fit_transform([review1, review2]).todense()\n",
    "\n",
    "# higher number means more important word\n",
    "# the more common word is in a specific document but not common in the courpus of documents wiill have higher tf-idf value"
   ]
  },
  {
   "cell_type": "code",
   "execution_count": 63,
   "metadata": {},
   "outputs": [
    {
     "data": {
      "text/plain": [
       "matrix([[0.4078241 , 0.29017021, 0.81564821, 0.        , 0.        ,\n",
       "         0.29017021, 0.        ],\n",
       "        [0.        , 0.35520009, 0.        , 0.49922133, 0.49922133,\n",
       "         0.35520009, 0.49922133]])"
      ]
     },
     "execution_count": 63,
     "metadata": {},
     "output_type": "execute_result"
    }
   ],
   "source": [
    "from sklearn.feature_extraction.text import TfidfTransformer\n",
    "\n",
    "# with TfidfTransformer you have to fit the bag of words count vector\n",
    "tfidf_transformer = TfidfTransformer()\n",
    "tfidf_transformer.fit_transform(bag_of_words_sparse).todense()"
   ]
  },
  {
   "cell_type": "markdown",
   "metadata": {},
   "source": [
    "---\n",
    "\n",
    "Kokchun Giang\n",
    "\n",
    "[LinkedIn][linkedIn_kokchun]\n",
    "\n",
    "[GitHub portfolio][github_portfolio]\n",
    "\n",
    "[linkedIn_kokchun]: https://www.linkedin.com/in/kokchungiang/\n",
    "[github_portfolio]: https://github.com/kokchun/Portfolio-Kokchun-Giang\n",
    "\n",
    "---\n"
   ]
  }
 ],
 "metadata": {
  "interpreter": {
   "hash": "99284c818dbeb598aa1f68004bbb0b5edd120a68b4d8720a3a3dd099e220abe1"
  },
  "kernelspec": {
   "display_name": "Python 3.9.9 ('ML_exploration-5IpxFwVQ')",
   "language": "python",
   "name": "python3"
  },
  "language_info": {
   "codemirror_mode": {
    "name": "ipython",
    "version": 3
   },
   "file_extension": ".py",
   "mimetype": "text/x-python",
   "name": "python",
   "nbconvert_exporter": "python",
   "pygments_lexer": "ipython3",
   "version": "3.9.13"
  },
  "orig_nbformat": 4
 },
 "nbformat": 4,
 "nbformat_minor": 2
}
