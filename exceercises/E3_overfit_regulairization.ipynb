{
 "cells": [
  {
   "cell_type": "code",
   "execution_count": 432,
   "metadata": {},
   "outputs": [],
   "source": [
    "import seaborn as sns\n",
    "import pandas as pd\n",
    "import matplotlib.pyplot as plt\n",
    "import numpy as np"
   ]
  },
  {
   "attachments": {},
   "cell_type": "markdown",
   "metadata": {},
   "source": [
    "## 0. Tips data EDTA"
   ]
  },
  {
   "cell_type": "code",
   "execution_count": 433,
   "metadata": {},
   "outputs": [
    {
     "data": {
      "text/html": [
       "<div>\n",
       "<style scoped>\n",
       "    .dataframe tbody tr th:only-of-type {\n",
       "        vertical-align: middle;\n",
       "    }\n",
       "\n",
       "    .dataframe tbody tr th {\n",
       "        vertical-align: top;\n",
       "    }\n",
       "\n",
       "    .dataframe thead th {\n",
       "        text-align: right;\n",
       "    }\n",
       "</style>\n",
       "<table border=\"1\" class=\"dataframe\">\n",
       "  <thead>\n",
       "    <tr style=\"text-align: right;\">\n",
       "      <th></th>\n",
       "      <th>total_bill</th>\n",
       "      <th>tip</th>\n",
       "      <th>sex</th>\n",
       "      <th>smoker</th>\n",
       "      <th>day</th>\n",
       "      <th>time</th>\n",
       "      <th>size</th>\n",
       "    </tr>\n",
       "  </thead>\n",
       "  <tbody>\n",
       "    <tr>\n",
       "      <th>0</th>\n",
       "      <td>16.99</td>\n",
       "      <td>1.01</td>\n",
       "      <td>Female</td>\n",
       "      <td>No</td>\n",
       "      <td>Sun</td>\n",
       "      <td>Dinner</td>\n",
       "      <td>2</td>\n",
       "    </tr>\n",
       "    <tr>\n",
       "      <th>1</th>\n",
       "      <td>10.34</td>\n",
       "      <td>1.66</td>\n",
       "      <td>Male</td>\n",
       "      <td>No</td>\n",
       "      <td>Sun</td>\n",
       "      <td>Dinner</td>\n",
       "      <td>3</td>\n",
       "    </tr>\n",
       "    <tr>\n",
       "      <th>2</th>\n",
       "      <td>21.01</td>\n",
       "      <td>3.50</td>\n",
       "      <td>Male</td>\n",
       "      <td>No</td>\n",
       "      <td>Sun</td>\n",
       "      <td>Dinner</td>\n",
       "      <td>3</td>\n",
       "    </tr>\n",
       "  </tbody>\n",
       "</table>\n",
       "</div>"
      ],
      "text/plain": [
       "   total_bill   tip     sex smoker  day    time  size\n",
       "0       16.99  1.01  Female     No  Sun  Dinner     2\n",
       "1       10.34  1.66    Male     No  Sun  Dinner     3\n",
       "2       21.01  3.50    Male     No  Sun  Dinner     3"
      ]
     },
     "execution_count": 433,
     "metadata": {},
     "output_type": "execute_result"
    }
   ],
   "source": [
    "df = sns.load_dataset(\"tips\")\n",
    "df.head(3)"
   ]
  },
  {
   "attachments": {},
   "cell_type": "markdown",
   "metadata": {},
   "source": [
    "### a)"
   ]
  },
  {
   "cell_type": "code",
   "execution_count": 434,
   "metadata": {},
   "outputs": [
    {
     "name": "stdout",
     "output_type": "stream",
     "text": [
      "<class 'pandas.core.frame.DataFrame'>\n",
      "RangeIndex: 244 entries, 0 to 243\n",
      "Data columns (total 7 columns):\n",
      " #   Column      Non-Null Count  Dtype   \n",
      "---  ------      --------------  -----   \n",
      " 0   total_bill  244 non-null    float64 \n",
      " 1   tip         244 non-null    float64 \n",
      " 2   sex         244 non-null    category\n",
      " 3   smoker      244 non-null    category\n",
      " 4   day         244 non-null    category\n",
      " 5   time        244 non-null    category\n",
      " 6   size        244 non-null    int64   \n",
      "dtypes: category(4), float64(2), int64(1)\n",
      "memory usage: 7.4 KB\n"
     ]
    }
   ],
   "source": [
    "df.info()"
   ]
  },
  {
   "cell_type": "code",
   "execution_count": 435,
   "metadata": {},
   "outputs": [
    {
     "data": {
      "text/html": [
       "<div>\n",
       "<style scoped>\n",
       "    .dataframe tbody tr th:only-of-type {\n",
       "        vertical-align: middle;\n",
       "    }\n",
       "\n",
       "    .dataframe tbody tr th {\n",
       "        vertical-align: top;\n",
       "    }\n",
       "\n",
       "    .dataframe thead th {\n",
       "        text-align: right;\n",
       "    }\n",
       "</style>\n",
       "<table border=\"1\" class=\"dataframe\">\n",
       "  <thead>\n",
       "    <tr style=\"text-align: right;\">\n",
       "      <th></th>\n",
       "      <th>total_bill</th>\n",
       "      <th>tip</th>\n",
       "      <th>size</th>\n",
       "    </tr>\n",
       "  </thead>\n",
       "  <tbody>\n",
       "    <tr>\n",
       "      <th>count</th>\n",
       "      <td>244.000000</td>\n",
       "      <td>244.000000</td>\n",
       "      <td>244.000000</td>\n",
       "    </tr>\n",
       "    <tr>\n",
       "      <th>mean</th>\n",
       "      <td>19.785943</td>\n",
       "      <td>2.998279</td>\n",
       "      <td>2.569672</td>\n",
       "    </tr>\n",
       "    <tr>\n",
       "      <th>std</th>\n",
       "      <td>8.902412</td>\n",
       "      <td>1.383638</td>\n",
       "      <td>0.951100</td>\n",
       "    </tr>\n",
       "    <tr>\n",
       "      <th>min</th>\n",
       "      <td>3.070000</td>\n",
       "      <td>1.000000</td>\n",
       "      <td>1.000000</td>\n",
       "    </tr>\n",
       "    <tr>\n",
       "      <th>25%</th>\n",
       "      <td>13.347500</td>\n",
       "      <td>2.000000</td>\n",
       "      <td>2.000000</td>\n",
       "    </tr>\n",
       "    <tr>\n",
       "      <th>50%</th>\n",
       "      <td>17.795000</td>\n",
       "      <td>2.900000</td>\n",
       "      <td>2.000000</td>\n",
       "    </tr>\n",
       "    <tr>\n",
       "      <th>75%</th>\n",
       "      <td>24.127500</td>\n",
       "      <td>3.562500</td>\n",
       "      <td>3.000000</td>\n",
       "    </tr>\n",
       "    <tr>\n",
       "      <th>max</th>\n",
       "      <td>50.810000</td>\n",
       "      <td>10.000000</td>\n",
       "      <td>6.000000</td>\n",
       "    </tr>\n",
       "  </tbody>\n",
       "</table>\n",
       "</div>"
      ],
      "text/plain": [
       "       total_bill         tip        size\n",
       "count  244.000000  244.000000  244.000000\n",
       "mean    19.785943    2.998279    2.569672\n",
       "std      8.902412    1.383638    0.951100\n",
       "min      3.070000    1.000000    1.000000\n",
       "25%     13.347500    2.000000    2.000000\n",
       "50%     17.795000    2.900000    2.000000\n",
       "75%     24.127500    3.562500    3.000000\n",
       "max     50.810000   10.000000    6.000000"
      ]
     },
     "execution_count": 435,
     "metadata": {},
     "output_type": "execute_result"
    }
   ],
   "source": [
    "df.describe()"
   ]
  },
  {
   "attachments": {},
   "cell_type": "markdown",
   "metadata": {},
   "source": [
    "### b) plot descriptive stats"
   ]
  },
  {
   "cell_type": "code",
   "execution_count": 436,
   "metadata": {},
   "outputs": [
    {
     "data": {
      "text/html": [
       "<div>\n",
       "<style scoped>\n",
       "    .dataframe tbody tr th:only-of-type {\n",
       "        vertical-align: middle;\n",
       "    }\n",
       "\n",
       "    .dataframe tbody tr th {\n",
       "        vertical-align: top;\n",
       "    }\n",
       "\n",
       "    .dataframe thead th {\n",
       "        text-align: right;\n",
       "    }\n",
       "</style>\n",
       "<table border=\"1\" class=\"dataframe\">\n",
       "  <thead>\n",
       "    <tr style=\"text-align: right;\">\n",
       "      <th></th>\n",
       "      <th>total_bill</th>\n",
       "      <th>tip</th>\n",
       "      <th>size</th>\n",
       "    </tr>\n",
       "  </thead>\n",
       "  <tbody>\n",
       "    <tr>\n",
       "      <th>mean</th>\n",
       "      <td>19.785943</td>\n",
       "      <td>2.998279</td>\n",
       "      <td>2.569672</td>\n",
       "    </tr>\n",
       "    <tr>\n",
       "      <th>std</th>\n",
       "      <td>8.902412</td>\n",
       "      <td>1.383638</td>\n",
       "      <td>0.951100</td>\n",
       "    </tr>\n",
       "    <tr>\n",
       "      <th>min</th>\n",
       "      <td>3.070000</td>\n",
       "      <td>1.000000</td>\n",
       "      <td>1.000000</td>\n",
       "    </tr>\n",
       "    <tr>\n",
       "      <th>25%</th>\n",
       "      <td>13.347500</td>\n",
       "      <td>2.000000</td>\n",
       "      <td>2.000000</td>\n",
       "    </tr>\n",
       "    <tr>\n",
       "      <th>50%</th>\n",
       "      <td>17.795000</td>\n",
       "      <td>2.900000</td>\n",
       "      <td>2.000000</td>\n",
       "    </tr>\n",
       "    <tr>\n",
       "      <th>75%</th>\n",
       "      <td>24.127500</td>\n",
       "      <td>3.562500</td>\n",
       "      <td>3.000000</td>\n",
       "    </tr>\n",
       "    <tr>\n",
       "      <th>max</th>\n",
       "      <td>50.810000</td>\n",
       "      <td>10.000000</td>\n",
       "      <td>6.000000</td>\n",
       "    </tr>\n",
       "  </tbody>\n",
       "</table>\n",
       "</div>"
      ],
      "text/plain": [
       "      total_bill        tip      size\n",
       "mean   19.785943   2.998279  2.569672\n",
       "std     8.902412   1.383638  0.951100\n",
       "min     3.070000   1.000000  1.000000\n",
       "25%    13.347500   2.000000  2.000000\n",
       "50%    17.795000   2.900000  2.000000\n",
       "75%    24.127500   3.562500  3.000000\n",
       "max    50.810000  10.000000  6.000000"
      ]
     },
     "execution_count": 436,
     "metadata": {},
     "output_type": "execute_result"
    }
   ],
   "source": [
    "# create df with descriptive statistics only for plotting\n",
    "df_describe = df[['total_bill', 'tip', 'size']].describe().drop(['count'])\n",
    "df_describe\n"
   ]
  },
  {
   "cell_type": "code",
   "execution_count": 437,
   "metadata": {},
   "outputs": [
    {
     "data": {
      "text/plain": [
       "Text(0.5, 0.98, 'Descriptive statistics')"
      ]
     },
     "execution_count": 437,
     "metadata": {},
     "output_type": "execute_result"
    },
    {
     "data": {
      "image/png": "[encoded data removed]",
      "text/plain": [
       "<Figure size 1400x400 with 3 Axes>"
      ]
     },
     "metadata": {},
     "output_type": "display_data"
    }
   ],
   "source": [
    "# plot\n",
    "\n",
    "fig, ax = plt.subplots(1, 3, figsize = (14,4))\n",
    "\n",
    "for i, feature in enumerate(df_describe.columns): \n",
    "    sns.barplot(data = df_describe, x = df_describe.index, y=feature, ax=ax[i])\n",
    "\n",
    "fig.suptitle('Descriptive statistics')\n",
    "\n",
    "# df_describe.columns returns list of names of all columns in df"
   ]
  },
  {
   "attachments": {},
   "cell_type": "markdown",
   "metadata": {},
   "source": [
    "### c) other interesting plots"
   ]
  },
  {
   "cell_type": "code",
   "execution_count": 438,
   "metadata": {},
   "outputs": [
    {
     "data": {
      "image/png": "[encoded data removed]",
      "text/plain": [
       "<Figure size 600.25x250 with 2 Axes>"
      ]
     },
     "metadata": {},
     "output_type": "display_data"
    }
   ],
   "source": [
    "sns.pairplot(df, y_vars='tip', x_vars=['total_bill','size'], hue='sex');"
   ]
  },
  {
   "cell_type": "code",
   "execution_count": 458,
   "metadata": {},
   "outputs": [
    {
     "data": {
      "image/png": "[encoded data removed]",
      "text/plain": [
       "<Figure size 581.75x250 with 2 Axes>"
      ]
     },
     "metadata": {},
     "output_type": "display_data"
    }
   ],
   "source": [
    "sns.pairplot(df, y_vars='tip', x_vars=['total_bill','size'], hue='day');"
   ]
  },
  {
   "cell_type": "code",
   "execution_count": 460,
   "metadata": {},
   "outputs": [
    {
     "data": {
      "image/png": "[encoded data removed]",
      "text/plain": [
       "<Figure size 600.25x250 with 2 Axes>"
      ]
     },
     "metadata": {},
     "output_type": "display_data"
    }
   ],
   "source": [
    "sns.pairplot(df, y_vars='tip', x_vars=['total_bill','day'], hue='sex');"
   ]
  },
  {
   "cell_type": "code",
   "execution_count": 440,
   "metadata": {},
   "outputs": [],
   "source": [
    "#TODO: make more plots on whole df, scatterplott, boxplott"
   ]
  },
  {
   "attachments": {},
   "cell_type": "markdown",
   "metadata": {},
   "source": [
    "### d) results/discussion"
   ]
  },
  {
   "attachments": {},
   "cell_type": "markdown",
   "metadata": {},
   "source": [
    "TODO: add analysis of plots"
   ]
  },
  {
   "attachments": {},
   "cell_type": "markdown",
   "metadata": {},
   "source": [
    "---\n",
    "## 1. Test|split"
   ]
  },
  {
   "cell_type": "code",
   "execution_count": 441,
   "metadata": {},
   "outputs": [
    {
     "name": "stdout",
     "output_type": "stream",
     "text": [
      "     total_bill   sex smoker  day    time  size\n",
      "234       15.53  Male    Yes  Sat  Dinner     2\n",
      "227       20.45  Male     No  Sat  Dinner     4\n",
      "180       34.65  Male    Yes  Sun  Dinner     4\n"
     ]
    },
    {
     "data": {
      "text/plain": [
       "((244, 6), (170, 6), (74, 6), (244,), (170,), (74,))"
      ]
     },
     "execution_count": 441,
     "metadata": {},
     "output_type": "execute_result"
    }
   ],
   "source": [
    "from sklearn.model_selection import train_test_split\n",
    "\n",
    "\n",
    "X, y = df.drop(['tip'], axis=\"columns\"), df['tip']\n",
    "\n",
    "X_train, X_test, y_train, y_test = train_test_split(X, y, test_size=0.3, random_state=42)\n",
    "print(X_train.head(3))\n",
    "X.shape, X_train.shape, X_test.shape, y.shape, y_train.shape, y_test.shape"
   ]
  },
  {
   "cell_type": "markdown",
   "metadata": {},
   "source": [
    "## 2. Feature standardization"
   ]
  },
  {
   "cell_type": "code",
   "execution_count": 442,
   "metadata": {},
   "outputs": [
    {
     "name": "stdout",
     "output_type": "stream",
     "text": [
      "X_train:\n",
      "      total_bill   sex smoker  day    time  size\n",
      "234       15.53  Male    Yes  Sat  Dinner     2\n",
      "227       20.45  Male     No  Sat  Dinner     4\n",
      "180       34.65  Male    Yes  Sun  Dinner     4 \n",
      "\n",
      " scaled_X_train: \n",
      "[[-0.52806763 -0.62551827]\n",
      " [ 0.01509878  1.52272629]\n",
      " [ 1.58277419  1.52272629]]\n",
      "\n",
      " scaled_x_train (total_bilil) mean and std :\n",
      " 0.00, 1.0\n",
      "\n",
      " scaled_x_train (size) mean and std :\n",
      " -0.00, 1.0\n",
      "\n",
      " scaled_x_test (total_bill) mean and std:\n",
      " -0.19, 0.92\n",
      "\n",
      " scaled_x_test (size) mean and std:\n",
      " -0.04, 1.06\n"
     ]
    }
   ],
   "source": [
    "from sklearn.preprocessing import StandardScaler\n",
    "\n",
    "# preprocessing X_train and X_test with standard scaler\n",
    "\n",
    "scaler = StandardScaler()\n",
    "scaled_X_train = scaler.fit_transform(X_train[['total_bill', 'size']]) \n",
    "scaled_X_test = scaler.transform(X_test[['total_bill', 'size']])\n",
    "\n",
    "print(f'X_train:\\n {X_train.head(3)} \\n\\n scaled_X_train: \\n{scaled_X_train[:3]}')\n",
    "\n",
    "\n",
    "print(f\"\\n scaled_x_train (total_bilil) mean and std :\\n {scaled_X_train[:,0].mean():.2f}, {scaled_X_train[:,0].std()}\")\n",
    "print(f\"\\n scaled_x_train (size) mean and std :\\n {scaled_X_train[:,1].mean():.2f}, {scaled_X_train[:,1].std()}\")\n",
    "print(f\"\\n scaled_x_test (total_bill) mean and std:\\n {scaled_X_test[:,0].mean():.2f}, {scaled_X_test[:,0].std():.2f}\")\n",
    "print(f\"\\n scaled_x_test (size) mean and std:\\n {scaled_X_test[:,1].mean():.2f}, {scaled_X_test[:,1].std():.2f}\")\n",
    "\n",
    "# NOTE scaler results in a np array so X_train (df) gives scaled_X_train (np)\n",
    "# NOTE feature standardisaion/scailng is needed for some models, for example gradient descent but not for LinReg or Poly w OLS\n",
    "\n",
    "# TODO: rewrite the code with pd.get_dummies() för att ersötta text med siffror och då inte tappa bort kolumner med text so jag gör på rad 6 o 7\n"
   ]
  },
  {
   "attachments": {},
   "cell_type": "markdown",
   "metadata": {},
   "source": [
    "## 3. Polynomial features"
   ]
  },
  {
   "cell_type": "code",
   "execution_count": 443,
   "metadata": {},
   "outputs": [
    {
     "name": "stdout",
     "output_type": "stream",
     "text": [
      "True\n"
     ]
    }
   ],
   "source": [
    "from sklearn.preprocessing import PolynomialFeatures\n",
    "\n",
    "poly_instance = PolynomialFeatures(2, include_bias=False)\n",
    "X_features_train = poly_instance.fit_transform(scaled_X_train)\n",
    "X_features_test = poly_instance.transform(scaled_X_test)\n",
    "\n",
    "X_features_test_fit_trans = poly_instance.fit_transform(scaled_X_test)\n",
    "\n",
    "print(np.array_equal(X_features_test, X_features_test_fit_trans)) # this is a special case where vectors actually are the same\n",
    "\n",
    "\n",
    "# sum([X_features_test == X_features_test_fit_trans]) # TODO kolla någons lösning för att få längden\n"
   ]
  },
  {
   "attachments": {},
   "cell_type": "markdown",
   "metadata": {},
   "source": [
    "## 4. Polynomial regressn"
   ]
  },
  {
   "cell_type": "code",
   "execution_count": 444,
   "metadata": {},
   "outputs": [],
   "source": [
    "from sklearn.preprocessing import PolynomialFeatures\n",
    "from sklearn.linear_model import LinearRegression\n",
    "from sklearn.metrics import mean_squared_error\n",
    "\n",
    "degrees = range(1,5)\n",
    "\n",
    "rmse_list_train = []\n",
    "rmse_list_test = []\n",
    "\n",
    "for degree in degrees:\n",
    "    poly_instance = PolynomialFeatures(degree=degree, include_bias=False)\n",
    "    \n",
    "    X_features_train = poly_instance.fit_transform(scaled_X_train)\n",
    "    X_features_test = poly_instance.transform(scaled_X_test)\n",
    "\n",
    "    model = LinearRegression()\n",
    "    model.fit(X_features_train, y_train)\n",
    "\n",
    "    y_pred_train = model.predict(X_features_train)\n",
    "    y_pred_test = model.predict(X_features_test)\n",
    "    \n",
    "    rmse_train = np.sqrt(mean_squared_error(y_train, y_pred_train))\n",
    "    rmse_test = np.sqrt(mean_squared_error(y_test, y_pred_test))\n",
    "\n",
    "    rmse_list_train.append(rmse_train)\n",
    "    rmse_list_test.append(rmse_test)\n"
   ]
  },
  {
   "cell_type": "code",
   "execution_count": 445,
   "metadata": {},
   "outputs": [
    {
     "data": {
      "image/png": "[encoded data removed]",
      "text/plain": [
       "<Figure size 640x480 with 1 Axes>"
      ]
     },
     "metadata": {},
     "output_type": "display_data"
    }
   ],
   "source": [
    "# plot results\n",
    "\n",
    "fig, ax = plt.figure(), plt.axes()\n",
    "\n",
    "ax.plot(range(1,5), rmse_list_train, '--o', label = 'Training loss' )\n",
    "ax.plot(range(1,5), rmse_list_test,  '--o', label = 'Test loss' )\n",
    "ax.set(xlabel = \"Degree\", ylabel = \"Loss\", title = \"Training loss and test loss\");"
   ]
  },
  {
   "attachments": {},
   "cell_type": "markdown",
   "metadata": {},
   "source": [
    "## 5. Regularization methods"
   ]
  },
  {
   "attachments": {},
   "cell_type": "markdown",
   "metadata": {},
   "source": [
    "---\n",
    "#### Data preparation alt 1 with get_dummies() - better alternative"
   ]
  },
  {
   "cell_type": "code",
   "execution_count": 461,
   "metadata": {},
   "outputs": [
    {
     "data": {
      "text/plain": [
       "(   total_bill  size  sex_Female  smoker_No  day_Fri  day_Sat  day_Sun  \\\n",
       " 0       16.99     2           1          1        0        0        1   \n",
       " 1       10.34     3           0          1        0        0        1   \n",
       " 2       21.01     3           0          1        0        0        1   \n",
       " 3       23.68     2           0          1        0        0        1   \n",
       " 4       24.59     4           1          1        0        0        1   \n",
       " \n",
       "    time_Dinner  \n",
       " 0            1  \n",
       " 1            1  \n",
       " 2            1  \n",
       " 3            1  \n",
       " 4            1  ,\n",
       " 0    1.01\n",
       " 1    1.66\n",
       " 2    3.50\n",
       " 3    3.31\n",
       " 4    3.61\n",
       " Name: tip, dtype: float64,\n",
       " (244, 8),\n",
       " (244,))"
      ]
     },
     "execution_count": 461,
     "metadata": {},
     "output_type": "execute_result"
    }
   ],
   "source": [
    "df = sns.load_dataset('tips')\n",
    "df = pd.get_dummies(df, drop_first=True) # drop_first=True removes columns which can be calculated from others: sex_Male since oposite to sex_Female\n",
    "X, y = df.drop(['tip'], axis=\"columns\"), df['tip']\n",
    "X.head(), y.head(),X.shape, y.shape"
   ]
  },
  {
   "attachments": {},
   "cell_type": "markdown",
   "metadata": {},
   "source": [
    "#### Polynomial features (on df from get_dummies())"
   ]
  },
  {
   "cell_type": "code",
   "execution_count": 462,
   "metadata": {},
   "outputs": [
    {
     "data": {
      "text/plain": [
       "((244, 8), (244, 494))"
      ]
     },
     "execution_count": 462,
     "metadata": {},
     "output_type": "execute_result"
    }
   ],
   "source": [
    "from sklearn.preprocessing import PolynomialFeatures\n",
    "\n",
    "model_polynomial = PolynomialFeatures(4, include_bias=False) \n",
    "polynomial_features = model_polynomial.fit_transform(X)\n",
    "X.shape, polynomial_features.shape"
   ]
  },
  {
   "attachments": {},
   "cell_type": "markdown",
   "metadata": {},
   "source": [
    "#### train|test split (on df from get_dummies())"
   ]
  },
  {
   "cell_type": "code",
   "execution_count": 463,
   "metadata": {},
   "outputs": [
    {
     "data": {
      "text/plain": [
       "((163, 494), (81, 494), (163,), (81,))"
      ]
     },
     "execution_count": 463,
     "metadata": {},
     "output_type": "execute_result"
    }
   ],
   "source": [
    "from sklearn.model_selection import train_test_split\n",
    "\n",
    "X_train, X_test, y_train, y_test = train_test_split(polynomial_features, y, test_size=0.33, random_state=42)\n",
    "X_train.shape, X_test.shape, y_train.shape , y_test.shape"
   ]
  },
  {
   "attachments": {},
   "cell_type": "markdown",
   "metadata": {},
   "source": [
    "#### Feature standardisation"
   ]
  },
  {
   "cell_type": "code",
   "execution_count": 464,
   "metadata": {},
   "outputs": [
    {
     "data": {
      "text/plain": [
       "(-1.411873000193935e-18,\n",
       " 0.8735890880367281,\n",
       " -0.01817068568762451,\n",
       " 0.8284657794573888)"
      ]
     },
     "execution_count": 464,
     "metadata": {},
     "output_type": "execute_result"
    }
   ],
   "source": [
    "from sklearn.preprocessing import StandardScaler\n",
    "\n",
    "#scaling with standard scaler\n",
    "scaler = StandardScaler()\n",
    "scaled_X_train = scaler.fit_transform(X_train)\n",
    "scaled_X_test = scaler.transform(X_test)\n",
    "\n",
    "# for scaled_X_train mean = 0, std = 1, which is expected\n",
    "scaled_X_train.mean(), scaled_X_train.std(), scaled_X_test.mean(), scaled_X_test.std()"
   ]
  },
  {
   "cell_type": "code",
   "execution_count": null,
   "metadata": {},
   "outputs": [],
   "source": [
    "# TODO: make function def print_modeling_results():"
   ]
  },
  {
   "attachments": {},
   "cell_type": "markdown",
   "metadata": {},
   "source": [
    "### a). Ridge with cross-validation"
   ]
  },
  {
   "cell_type": "code",
   "execution_count": 465,
   "metadata": {},
   "outputs": [
    {
     "name": "stdout",
     "output_type": "stream",
     "text": [
      "alpha = 10.0\n",
      "weights = [ 0.3523099   0.06826969 -0.03117835 -0.03201763 -0.01850156 -0.0383721\n",
      "  0.0249515  -0.0061083   0.20871969  0.12384646  0.07193159  0.11704968\n",
      "  0.00580343  0.03453439 -0.0397833   0.01204873  0.06571415  0.00058181\n",
      " -0.12986974 -0.02990601  0.00375759  0.04630201  0.05934982 -0.03117835\n",
      " -0.013382   -0.02247764 -0.01837937  0.0178694   0.0023477  -0.03201763\n",
      " -0.00096425  0.02866758 -0.04630045 -0.01264835 -0.01850156  0.\n",
      "  0.         -0.00686066 -0.0383721   0.         -0.0383721   0.0249515\n",
      "  0.0249515  -0.0061083   0.18433486  0.04177963 -0.02831974  0.0609809\n",
      " -0.01876282  0.02709547 -0.0868779  -0.03672571 -0.01473773  0.07225514\n",
      "  0.05084199  0.01102838 -0.01274927 -0.01794296 -0.01322271  0.07193159\n",
      " -0.02282829  0.08932839 -0.01938132 -0.03772415 -0.01203118  0.11704968\n",
      "  0.02002383  0.03944012  0.03260844  0.06663713  0.00580343  0.\n",
      "  0.          0.013731    0.03453439  0.          0.03453439 -0.0397833\n",
      " -0.0397833   0.01204873  0.05745091 -0.01599159 -0.03717647 -0.01473776\n",
      " -0.01758514  0.03243091  0.0255301   0.00058181 -0.00860654 -0.01343393\n",
      "  0.08485037 -0.03635938  0.03768165 -0.12986974  0.00817317 -0.01406368\n",
      " -0.02777131 -0.03154267 -0.02990601  0.          0.          0.0035418\n",
      "  0.00375759  0.          0.00375759  0.04630201  0.04630201  0.05934982\n",
      " -0.03117835 -0.013382   -0.02247764 -0.01837937  0.0178694   0.0023477\n",
      " -0.013382   -0.0290166  -0.01985921  0.00790407 -0.00996228 -0.02247764\n",
      "  0.          0.         -0.02246759 -0.01837937  0.         -0.01837937\n",
      "  0.0178694   0.0178694   0.0023477  -0.03201763 -0.00096425  0.02866758\n",
      " -0.04630045 -0.01264835 -0.00096425  0.          0.         -0.02489598\n",
      "  0.02866758  0.          0.02866758 -0.04630045 -0.04630045 -0.01264835\n",
      " -0.01850156  0.          0.         -0.00686066  0.          0.\n",
      "  0.          0.          0.         -0.00686066 -0.0383721   0.\n",
      " -0.0383721   0.          0.         -0.0383721   0.0249515   0.0249515\n",
      "  0.0249515  -0.0061083   0.25533007  0.02962041 -0.23422329 -0.11003877\n",
      " -0.03600599  0.09882303 -0.11446317  0.01579061 -0.10975098 -0.02113074\n",
      "  0.02863856  0.00312759 -0.05820221 -0.07002057 -0.09105406 -0.02831974\n",
      "  0.06031281  0.11724196 -0.21759406  0.09465163 -0.10715502  0.0609809\n",
      "  0.03300186 -0.12062427  0.15549113  0.00159841 -0.01876282  0.\n",
      "  0.         -0.01722398  0.02709547  0.          0.02709547 -0.0868779\n",
      " -0.0868779  -0.03672571 -0.08357336  0.02298367  0.10931285  0.02147343\n",
      " -0.13583851 -0.05018691 -0.13383979  0.07225514  0.05564204  0.08880532\n",
      "  0.02421181  0.02189782  0.05178564  0.05084199  0.02599206 -0.01106237\n",
      "  0.11766752  0.08932639  0.01102838  0.          0.          0.02296963\n",
      " -0.01274927  0.         -0.01274927 -0.01794296 -0.01794296 -0.01322271\n",
      "  0.07193159 -0.02282829  0.08932839 -0.01938132 -0.03772415 -0.01203118\n",
      " -0.02282829 -0.04357269 -0.1120495   0.03539027 -0.0492609   0.08932839\n",
      "  0.          0.          0.06437314 -0.01938132  0.         -0.01938132\n",
      " -0.03772415 -0.03772415 -0.01203118  0.11704968  0.02002383  0.03944012\n",
      "  0.03260844  0.06663713  0.02002383  0.          0.          0.00285419\n",
      "  0.03944012  0.          0.03944012  0.03260844  0.03260844  0.06663713\n",
      "  0.00580343  0.          0.          0.013731    0.          0.\n",
      "  0.          0.          0.          0.013731    0.03453439  0.\n",
      "  0.03453439  0.          0.          0.03453439 -0.0397833  -0.0397833\n",
      " -0.0397833   0.01204873  0.05170894 -0.04580625  0.11825518  0.00707763\n",
      " -0.08094504 -0.02331792 -0.06536675 -0.01599159 -0.00136003 -0.00219363\n",
      "  0.08700741 -0.05640519  0.01207801 -0.03717647  0.01748252 -0.04632842\n",
      "  0.07607675  0.0403412  -0.01473776  0.          0.          0.01577914\n",
      " -0.01758514  0.         -0.01758514  0.03243091  0.03243091  0.0255301\n",
      "  0.00058181 -0.00860654 -0.01343393  0.08485037 -0.03635938  0.03768165\n",
      " -0.00860654 -0.01136887  0.08069889 -0.02260445  0.0257753  -0.01343393\n",
      "  0.          0.         -0.02246759  0.08485037  0.          0.08485037\n",
      " -0.03635938 -0.03635938  0.03768165 -0.12986974  0.00817317 -0.01406368\n",
      " -0.02777131 -0.03154267  0.00817317  0.          0.         -0.02489598\n",
      " -0.01406368  0.         -0.01406368 -0.02777131 -0.02777131 -0.03154267\n",
      " -0.02990601  0.          0.          0.0035418   0.          0.\n",
      "  0.          0.          0.          0.0035418   0.00375759  0.\n",
      "  0.00375759  0.          0.          0.00375759  0.04630201  0.04630201\n",
      "  0.04630201  0.05934982 -0.03117835 -0.013382   -0.02247764 -0.01837937\n",
      "  0.0178694   0.0023477  -0.013382   -0.0290166  -0.01985921  0.00790407\n",
      " -0.00996228 -0.02247764  0.          0.         -0.02246759 -0.01837937\n",
      "  0.         -0.01837937  0.0178694   0.0178694   0.0023477  -0.013382\n",
      " -0.0290166  -0.01985921  0.00790407 -0.00996228 -0.0290166   0.\n",
      "  0.         -0.08185236 -0.01985921  0.         -0.01985921  0.00790407\n",
      "  0.00790407 -0.00996228 -0.02247764  0.          0.         -0.02246759\n",
      "  0.          0.          0.          0.          0.         -0.02246759\n",
      " -0.01837937  0.         -0.01837937  0.          0.         -0.01837937\n",
      "  0.0178694   0.0178694   0.0178694   0.0023477  -0.03201763 -0.00096425\n",
      "  0.02866758 -0.04630045 -0.01264835 -0.00096425  0.          0.\n",
      " -0.02489598  0.02866758  0.          0.02866758 -0.04630045 -0.04630045\n",
      " -0.01264835 -0.00096425  0.          0.         -0.02489598  0.\n",
      "  0.          0.          0.          0.         -0.02489598  0.02866758\n",
      "  0.          0.02866758  0.          0.          0.02866758 -0.04630045\n",
      " -0.04630045 -0.04630045 -0.01264835 -0.01850156  0.          0.\n",
      " -0.00686066  0.          0.          0.          0.          0.\n",
      " -0.00686066  0.          0.          0.          0.          0.\n",
      "  0.          0.          0.          0.         -0.00686066 -0.0383721\n",
      "  0.         -0.0383721   0.          0.         -0.0383721   0.\n",
      "  0.          0.         -0.0383721   0.0249515   0.0249515   0.0249515\n",
      "  0.0249515  -0.0061083 ]\n"
     ]
    },
    {
     "data": {
      "text/plain": [
       "(0.799005336497818, 1.0610467318307994, 1.0300712265813463)"
      ]
     },
     "execution_count": 465,
     "metadata": {},
     "output_type": "execute_result"
    }
   ],
   "source": [
    "from sklearn.linear_model import RidgeCV\n",
    "from sklearn.metrics import mean_squared_error, mean_absolute_error\n",
    "\n",
    "model_ridgeCV = RidgeCV(alphas=[0.01, 0.1, 0.5, 1, 5, 10], scoring=\"neg_mean_squared_error\") # cv = 5 eller cv = 10\n",
    "model_ridgeCV.fit(scaled_X_train, y_train)\n",
    "\n",
    "y_pred = model_ridgeCV.predict(scaled_X_test)\n",
    "\n",
    "print(f'alpha = {model_ridgeCV.alpha_}')\n",
    "print(f'weights = {model_ridgeCV.coef_}')\n",
    "\n",
    "MSE = mean_squared_error(y_test, y_pred)\n",
    "RMSE = np.sqrt(MSE)\n",
    "MAE = mean_absolute_error(y_test, y_pred)\n",
    "\n",
    "MAE, MSE, RMSE\n"
   ]
  },
  {
   "cell_type": "markdown",
   "metadata": {},
   "source": [
    "### b) LASSSO with cross-validation"
   ]
  },
  {
   "cell_type": "code",
   "execution_count": 467,
   "metadata": {},
   "outputs": [
    {
     "name": "stdout",
     "output_type": "stream",
     "text": [
      "alpha = 0.11894444497837664\n",
      "weights = [ 0.4749732   0.         -0.         -0.          0.         -0.\n",
      "  0.         -0.          0.          0.20795761 -0.          0.\n",
      "  0.          0.         -0.          0.          0.         -0.\n",
      "  0.          0.         -0.          0.          0.         -0.\n",
      " -0.          0.         -0.          0.         -0.         -0.\n",
      " -0.          0.         -0.          0.          0.          0.\n",
      "  0.          0.         -0.          0.         -0.          0.\n",
      "  0.         -0.          0.          0.         -0.          0.\n",
      "  0.          0.         -0.          0.          0.         -0.\n",
      "  0.          0.          0.          0.          0.         -0.\n",
      " -0.          0.         -0.          0.         -0.          0.\n",
      "  0.          0.          0.          0.          0.          0.\n",
      "  0.          0.          0.          0.          0.         -0.\n",
      " -0.          0.          0.         -0.          0.          0.\n",
      " -0.          0.          0.         -0.         -0.          0.\n",
      " -0.          0.         -0.          0.         -0.          0.\n",
      "  0.          0.          0.          0.          0.          0.\n",
      " -0.          0.         -0.          0.          0.          0.\n",
      " -0.         -0.          0.         -0.          0.         -0.\n",
      " -0.          0.         -0.         -0.         -0.          0.\n",
      "  0.          0.          0.         -0.          0.         -0.\n",
      "  0.          0.         -0.         -0.         -0.          0.\n",
      " -0.          0.         -0.          0.          0.         -0.\n",
      "  0.          0.          0.         -0.         -0.          0.\n",
      "  0.          0.          0.          0.          0.          0.\n",
      "  0.          0.          0.          0.         -0.          0.\n",
      " -0.          0.          0.         -0.          0.          0.\n",
      "  0.         -0.          0.          0.         -0.          0.\n",
      "  0.          0.09960863 -0.          0.          0.         -0.\n",
      "  0.33293475  0.          0.         -0.          0.         -0.\n",
      " -0.          0.         -0.04727244 -0.         -0.          0.\n",
      "  0.          0.          0.          0.          0.          0.\n",
      "  0.          0.          0.          0.          0.         -0.\n",
      " -0.          0.          0.         -0.          0.          0.\n",
      "  0.          0.          0.         -0.         -0.          0.\n",
      " -0.         -0.         -0.          0.          0.          0.\n",
      "  0.          0.          0.          0.          0.          0.\n",
      "  0.          0.          0.          0.          0.          0.\n",
      " -0.         -0.          0.         -0.          0.         -0.\n",
      " -0.          0.         -0.         -0.         -0.          0.\n",
      "  0.          0.          0.         -0.          0.         -0.\n",
      "  0.          0.         -0.          0.          0.          0.\n",
      "  0.          0.          0.          0.          0.         -0.\n",
      "  0.          0.          0.          0.          0.          0.\n",
      "  0.          0.          0.          0.          0.          0.\n",
      "  0.          0.          0.          0.          0.          0.\n",
      "  0.          0.          0.          0.         -0.         -0.\n",
      " -0.          0.          0.          0.          0.          0.\n",
      " -0.          0.          0.         -0.         -0.          0.\n",
      " -0.          0.         -0.          0.          0.          0.\n",
      "  0.          0.          0.          0.          0.          0.\n",
      " -0.          0.         -0.          0.          0.          0.\n",
      " -0.         -0.          0.         -0.          0.         -0.\n",
      " -0.          0.         -0.         -0.         -0.          0.\n",
      "  0.          0.          0.         -0.          0.         -0.\n",
      "  0.          0.         -0.          0.         -0.          0.\n",
      "  0.          0.         -0.          0.          0.         -0.\n",
      "  0.          0.          0.          0.          0.          0.\n",
      "  0.          0.          0.          0.          0.          0.\n",
      "  0.          0.          0.          0.         -0.          0.\n",
      " -0.          0.          0.         -0.          0.          0.\n",
      "  0.          0.         -0.         -0.          0.         -0.\n",
      "  0.         -0.         -0.          0.         -0.         -0.\n",
      " -0.          0.          0.          0.          0.         -0.\n",
      "  0.         -0.          0.          0.         -0.         -0.\n",
      "  0.         -0.         -0.         -0.          0.          0.\n",
      "  0.          0.         -0.          0.         -0.         -0.\n",
      " -0.         -0.          0.          0.          0.          0.\n",
      "  0.          0.          0.          0.          0.          0.\n",
      " -0.          0.         -0.          0.          0.         -0.\n",
      "  0.          0.          0.         -0.         -0.         -0.\n",
      "  0.         -0.          0.         -0.          0.          0.\n",
      " -0.          0.          0.          0.         -0.         -0.\n",
      "  0.         -0.          0.          0.         -0.          0.\n",
      "  0.          0.          0.          0.         -0.          0.\n",
      "  0.          0.          0.          0.          0.         -0.\n",
      " -0.         -0.          0.          0.          0.          0.\n",
      "  0.          0.          0.          0.          0.          0.\n",
      "  0.          0.          0.          0.          0.          0.\n",
      "  0.          0.          0.          0.          0.         -0.\n",
      "  0.         -0.          0.          0.         -0.          0.\n",
      "  0.          0.         -0.          0.          0.          0.\n",
      "  0.         -0.        ]\n"
     ]
    },
    {
     "data": {
      "text/plain": [
       "(0.7582915075477507, 0.9841672466019541, 0.9920520382530112)"
      ]
     },
     "execution_count": 467,
     "metadata": {},
     "output_type": "execute_result"
    }
   ],
   "source": [
    "from sklearn.linear_model import LassoCV\n",
    "\n",
    "model_lassoCV = LassoCV(n_alphas=100, max_iter=int(5e4))\n",
    "model_lassoCV.fit(scaled_X_train, y_train)\n",
    "\n",
    "print(f'alpha = {model_lassoCV.alpha_}')\n",
    "print(f'weights = {model_lassoCV.coef_}')\n",
    "\n",
    "y_pred = model_lassoCV.predict(scaled_X_test)\n",
    "\n",
    "MSE = mean_squared_error(y_test, y_pred)\n",
    "RMSE = np.sqrt(MSE)\n",
    "MAE = mean_absolute_error(y_test, y_pred)\n",
    "\n",
    "MAE, MSE, RMSE"
   ]
  },
  {
   "attachments": {},
   "cell_type": "markdown",
   "metadata": {},
   "source": [
    "### c) ElasticNet with cross-validation"
   ]
  },
  {
   "cell_type": "code",
   "execution_count": 468,
   "metadata": {},
   "outputs": [
    {
     "name": "stderr",
     "output_type": "stream",
     "text": [
      "c:\\Users\\DorotaBjöörn-AI22GBG\\.virtualenvs\\Machine-Learning-Dorota-Bjoorn-ugpTJiOr\\lib\\site-packages\\sklearn\\linear_model\\_coordinate_descent.py:631: ConvergenceWarning: Objective did not converge. You might want to increase the number of iterations, check the scale of the features or consider increasing regularisation. Duality gap: 3.229e-02, tolerance: 2.683e-02\n",
      "  model = cd_fast.enet_coordinate_descent(\n"
     ]
    },
    {
     "name": "stdout",
     "output_type": "stream",
     "text": [
      "alpha = 0.11894444497837664\n",
      "L1-ratio = 1.0\n",
      "weights = [ 0.4749732   0.         -0.         -0.          0.         -0.\n",
      "  0.         -0.          0.          0.20795761 -0.          0.\n",
      "  0.          0.         -0.          0.          0.         -0.\n",
      "  0.          0.         -0.          0.          0.         -0.\n",
      " -0.          0.         -0.          0.         -0.         -0.\n",
      " -0.          0.         -0.          0.          0.          0.\n",
      "  0.          0.         -0.          0.         -0.          0.\n",
      "  0.         -0.          0.          0.         -0.          0.\n",
      "  0.          0.         -0.          0.          0.         -0.\n",
      "  0.          0.          0.          0.          0.         -0.\n",
      " -0.          0.         -0.          0.         -0.          0.\n",
      "  0.          0.          0.          0.          0.          0.\n",
      "  0.          0.          0.          0.          0.         -0.\n",
      " -0.          0.          0.         -0.          0.          0.\n",
      " -0.          0.          0.         -0.         -0.          0.\n",
      " -0.          0.         -0.          0.         -0.          0.\n",
      "  0.          0.          0.          0.          0.          0.\n",
      " -0.          0.         -0.          0.          0.          0.\n",
      " -0.         -0.          0.         -0.          0.         -0.\n",
      " -0.          0.         -0.         -0.         -0.          0.\n",
      "  0.          0.          0.         -0.          0.         -0.\n",
      "  0.          0.         -0.         -0.         -0.          0.\n",
      " -0.          0.         -0.          0.          0.         -0.\n",
      "  0.          0.          0.         -0.         -0.          0.\n",
      "  0.          0.          0.          0.          0.          0.\n",
      "  0.          0.          0.          0.         -0.          0.\n",
      " -0.          0.          0.         -0.          0.          0.\n",
      "  0.         -0.          0.          0.         -0.          0.\n",
      "  0.          0.09960863 -0.          0.          0.         -0.\n",
      "  0.33293475  0.          0.         -0.          0.         -0.\n",
      " -0.          0.         -0.04727244 -0.         -0.          0.\n",
      "  0.          0.          0.          0.          0.          0.\n",
      "  0.          0.          0.          0.          0.         -0.\n",
      " -0.          0.          0.         -0.          0.          0.\n",
      "  0.          0.          0.         -0.         -0.          0.\n",
      " -0.         -0.         -0.          0.          0.          0.\n",
      "  0.          0.          0.          0.          0.          0.\n",
      "  0.          0.          0.          0.          0.          0.\n",
      " -0.         -0.          0.         -0.          0.         -0.\n",
      " -0.          0.         -0.         -0.         -0.          0.\n",
      "  0.          0.          0.         -0.          0.         -0.\n",
      "  0.          0.         -0.          0.          0.          0.\n",
      "  0.          0.          0.          0.          0.         -0.\n",
      "  0.          0.          0.          0.          0.          0.\n",
      "  0.          0.          0.          0.          0.          0.\n",
      "  0.          0.          0.          0.          0.          0.\n",
      "  0.          0.          0.          0.         -0.         -0.\n",
      " -0.          0.          0.          0.          0.          0.\n",
      " -0.          0.          0.         -0.         -0.          0.\n",
      " -0.          0.         -0.          0.          0.          0.\n",
      "  0.          0.          0.          0.          0.          0.\n",
      " -0.          0.         -0.          0.          0.          0.\n",
      " -0.         -0.          0.         -0.          0.         -0.\n",
      " -0.          0.         -0.         -0.         -0.          0.\n",
      "  0.          0.          0.         -0.          0.         -0.\n",
      "  0.          0.         -0.          0.         -0.          0.\n",
      "  0.          0.         -0.          0.          0.         -0.\n",
      "  0.          0.          0.          0.          0.          0.\n",
      "  0.          0.          0.          0.          0.          0.\n",
      "  0.          0.          0.          0.         -0.          0.\n",
      " -0.          0.          0.         -0.          0.          0.\n",
      "  0.          0.         -0.         -0.          0.         -0.\n",
      "  0.         -0.         -0.          0.         -0.         -0.\n",
      " -0.          0.          0.          0.          0.         -0.\n",
      "  0.         -0.          0.          0.         -0.         -0.\n",
      "  0.         -0.         -0.         -0.          0.          0.\n",
      "  0.          0.         -0.          0.         -0.         -0.\n",
      " -0.         -0.          0.          0.          0.          0.\n",
      "  0.          0.          0.          0.          0.          0.\n",
      " -0.          0.         -0.          0.          0.         -0.\n",
      "  0.          0.          0.         -0.         -0.         -0.\n",
      "  0.         -0.          0.         -0.          0.          0.\n",
      " -0.          0.          0.          0.         -0.         -0.\n",
      "  0.         -0.          0.          0.         -0.          0.\n",
      "  0.          0.          0.          0.         -0.          0.\n",
      "  0.          0.          0.          0.          0.         -0.\n",
      " -0.         -0.          0.          0.          0.          0.\n",
      "  0.          0.          0.          0.          0.          0.\n",
      "  0.          0.          0.          0.          0.          0.\n",
      "  0.          0.          0.          0.          0.         -0.\n",
      "  0.         -0.          0.          0.         -0.          0.\n",
      "  0.          0.         -0.          0.          0.          0.\n",
      "  0.         -0.        ]\n"
     ]
    },
    {
     "data": {
      "text/plain": [
       "(0.7582915075477507, 0.9841672466019541, 0.9920520382530112)"
      ]
     },
     "execution_count": 468,
     "metadata": {},
     "output_type": "execute_result"
    }
   ],
   "source": [
    "from sklearn.linear_model import ElasticNetCV\n",
    "\n",
    "model_elasticnetCV = ElasticNetCV(n_alphas=100, max_iter=int(5e4), l1_ratio=[.001,.01,.05,.1,.5,.9,.95,1])\n",
    "model_elasticnetCV.fit(scaled_X_train, y_train)\n",
    "\n",
    "print(f'alpha = {model_elasticnetCV.alpha_}')\n",
    "print(f'L1-ratio = {model_elasticnetCV.l1_ratio_}')\n",
    "print(f'weights = {model_elasticnetCV.coef_}')\n",
    "\n",
    "y_pred = model_elasticnetCV.predict(scaled_X_test)\n",
    "\n",
    "MSE = mean_squared_error(y_test, y_pred)\n",
    "RMSE = np.sqrt(MSE)\n",
    "MAE = mean_absolute_error(y_test, y_pred)\n",
    "\n",
    "MAE, MSE, RMSE"
   ]
  },
  {
   "attachments": {},
   "cell_type": "markdown",
   "metadata": {},
   "source": [
    "---\n",
    "---\n",
    "#### Data preparation alt 2 - create df with only numeric values - worse but faster alternative"
   ]
  },
  {
   "cell_type": "code",
   "execution_count": 448,
   "metadata": {},
   "outputs": [
    {
     "data": {
      "text/plain": [
       "((244, 2), (244,))"
      ]
     },
     "execution_count": 448,
     "metadata": {},
     "output_type": "execute_result"
    }
   ],
   "source": [
    "# load dataset\n",
    "df = sns.load_dataset('tips')\n",
    "\n",
    "# select numerical colums to create X and y\n",
    "X, y = df[['total_bill', 'size']], df['tip']\n",
    "X.shape, y.shape\n"
   ]
  },
  {
   "attachments": {},
   "cell_type": "markdown",
   "metadata": {},
   "source": [
    "#### Plynomial features"
   ]
  },
  {
   "cell_type": "code",
   "execution_count": 449,
   "metadata": {},
   "outputs": [
    {
     "data": {
      "text/plain": [
       "((244, 2), (244, 14))"
      ]
     },
     "execution_count": 449,
     "metadata": {},
     "output_type": "execute_result"
    }
   ],
   "source": [
    "from sklearn.preprocessing import PolynomialFeatures\n",
    "\n",
    "# engineer polynomial features from X\n",
    "model_polynomial = PolynomialFeatures(4, include_bias=False) \n",
    "polynomial_features = model_polynomial.fit_transform(X) # NOTE X is df, polynomial_features is np array\n",
    "\n",
    "# 2 columns -> 14 columns\n",
    "X.shape, polynomial_features.shape"
   ]
  },
  {
   "attachments": {},
   "cell_type": "markdown",
   "metadata": {},
   "source": [
    "#### train|test split"
   ]
  },
  {
   "cell_type": "code",
   "execution_count": 450,
   "metadata": {},
   "outputs": [
    {
     "data": {
      "text/plain": [
       "((163, 14), (81, 14), (163,), (81,))"
      ]
     },
     "execution_count": 450,
     "metadata": {},
     "output_type": "execute_result"
    }
   ],
   "source": [
    "from sklearn.model_selection import train_test_split\n",
    "\n",
    "X_train, X_test, y_train, y_test = train_test_split(polynomial_features, y, test_size=0.33, random_state=42)\n",
    "X_train.shape, X_test.shape, y_train.shape , y_test.shape"
   ]
  },
  {
   "attachments": {},
   "cell_type": "markdown",
   "metadata": {},
   "source": [
    "#### Feature standardisation"
   ]
  },
  {
   "cell_type": "code",
   "execution_count": 451,
   "metadata": {},
   "outputs": [
    {
     "data": {
      "text/plain": [
       "(-1.8059368393552065e-16, 1.0, 0.05713059068422285, 1.2299477151059277)"
      ]
     },
     "execution_count": 451,
     "metadata": {},
     "output_type": "execute_result"
    }
   ],
   "source": [
    "from sklearn.preprocessing import StandardScaler\n",
    "\n",
    "#scaling with standard scaler\n",
    "scaler = StandardScaler()\n",
    "scaled_X_train = scaler.fit_transform(X_train)\n",
    "scaled_X_test = scaler.transform(X_test)\n",
    "\n",
    "# for scaled_X_train mean = 0, std = 1, which is expected\n",
    "scaled_X_train.mean(), scaled_X_train.std(), scaled_X_test.mean(), scaled_X_test.std()"
   ]
  },
  {
   "attachments": {},
   "cell_type": "markdown",
   "metadata": {},
   "source": [
    "### a). Ridge with cross-validation"
   ]
  },
  {
   "cell_type": "code",
   "execution_count": 452,
   "metadata": {},
   "outputs": [
    {
     "name": "stdout",
     "output_type": "stream",
     "text": [
      "alpha = 10.0\n",
      "weights = [ 0.40148158  0.07473296 -0.00582492  0.20348771  0.03476736 -0.06224482\n",
      "  0.06934357  0.06990532  0.00360957  0.14587816  0.13724285  0.0701817\n",
      " -0.00648861 -0.00779538]\n"
     ]
    }
   ],
   "source": [
    "from sklearn.linear_model import RidgeCV\n",
    "from sklearn.metrics import mean_squared_error, mean_absolute_error\n",
    "\n",
    "model_ridgeCV = RidgeCV(alphas=[0.01, 0.1, 0.5, 1, 5, 10], scoring=\"neg_mean_squared_error\") # cv = 5 eller cv = 10\n",
    "model_ridgeCV.fit(scaled_X_train, y_train)\n",
    "\n",
    "print(f'alpha = {model_ridgeCV.alpha_}')\n",
    "print(f'weights = {model_ridgeCV.coef_}')"
   ]
  },
  {
   "cell_type": "code",
   "execution_count": 453,
   "metadata": {},
   "outputs": [
    {
     "data": {
      "text/plain": [
       "(0.8021255884697003, 1.131219757842038, 1.0635881523606956)"
      ]
     },
     "execution_count": 453,
     "metadata": {},
     "output_type": "execute_result"
    }
   ],
   "source": [
    "y_pred = model_ridgeCV.predict(scaled_X_test)\n",
    "\n",
    "MSE = mean_squared_error(y_test, y_pred)\n",
    "RMSE = np.sqrt(MSE)\n",
    "MAE = mean_absolute_error(y_test, y_pred)\n",
    "\n",
    "MAE, MSE, RMSE"
   ]
  },
  {
   "attachments": {},
   "cell_type": "markdown",
   "metadata": {},
   "source": [
    "#### b) LASSO with cross-validation"
   ]
  },
  {
   "cell_type": "code",
   "execution_count": 454,
   "metadata": {},
   "outputs": [
    {
     "name": "stdout",
     "output_type": "stream",
     "text": [
      "alpha = 0.03387580456496054\n",
      "weights = [0.34959198 0.         0.         0.4997257  0.         0.\n",
      " 0.         0.         0.         0.         0.21308423 0.\n",
      " 0.         0.        ]\n"
     ]
    }
   ],
   "source": [
    "from sklearn.linear_model import LassoCV\n",
    "\n",
    "model_lassoCV = LassoCV(n_alphas=100, max_iter=int(5e4))\n",
    "model_lassoCV.fit(scaled_X_train, y_train)\n",
    "\n",
    "print(f'alpha = {model_lassoCV.alpha_}')\n",
    "print(f'weights = {model_lassoCV.coef_}')\n"
   ]
  },
  {
   "cell_type": "code",
   "execution_count": 455,
   "metadata": {},
   "outputs": [
    {
     "data": {
      "text/plain": [
       "(0.7853728083568148, 1.0630863503865708, 1.0310607888900494)"
      ]
     },
     "execution_count": 455,
     "metadata": {},
     "output_type": "execute_result"
    }
   ],
   "source": [
    "y_pred = model_lassoCV.predict(scaled_X_test)\n",
    "\n",
    "MSE = mean_squared_error(y_test, y_pred)\n",
    "RMSE = np.sqrt(MSE)\n",
    "MAE = mean_absolute_error(y_test, y_pred)\n",
    "\n",
    "MAE, MSE, RMSE"
   ]
  },
  {
   "attachments": {},
   "cell_type": "markdown",
   "metadata": {},
   "source": [
    "### c) ElasticNet with cross-validation"
   ]
  },
  {
   "cell_type": "code",
   "execution_count": 456,
   "metadata": {},
   "outputs": [
    {
     "name": "stdout",
     "output_type": "stream",
     "text": [
      "alpha = 0.3632391485423487\n",
      "L1-ratio = 0.01\n",
      "weights = [0.20375432 0.06542731 0.10809885 0.13089245 0.04294677 0.07324139\n",
      " 0.09815745 0.07246531 0.01967225 0.08831352 0.09324619 0.07247109\n",
      " 0.03053337 0.        ]\n"
     ]
    }
   ],
   "source": [
    "from sklearn.linear_model import ElasticNetCV\n",
    "\n",
    "model_elasticnetCV = ElasticNetCV(n_alphas=100, max_iter=int(5e4), l1_ratio=[.001,.01,.05,.1,.5,.9,.95,1])\n",
    "model_elasticnetCV.fit(scaled_X_train, y_train)\n",
    "\n",
    "print(f'alpha = {model_elasticnetCV.alpha_}')\n",
    "print(f'L1-ratio = {model_elasticnetCV.l1_ratio_}')\n",
    "print(f'weights = {model_elasticnetCV.coef_}')\n"
   ]
  },
  {
   "cell_type": "code",
   "execution_count": 457,
   "metadata": {},
   "outputs": [
    {
     "data": {
      "text/plain": [
       "(0.823326443785215, 1.1612506270591925, 1.0776133940607793)"
      ]
     },
     "execution_count": 457,
     "metadata": {},
     "output_type": "execute_result"
    }
   ],
   "source": [
    "y_pred = model_elasticnetCV.predict(scaled_X_test)\n",
    "\n",
    "MSE = mean_squared_error(y_test, y_pred)\n",
    "RMSE = np.sqrt(MSE)\n",
    "MAE = mean_absolute_error(y_test, y_pred)\n",
    "\n",
    "MAE, MSE, RMSE"
   ]
  }
 ],
 "metadata": {
  "kernelspec": {
   "display_name": "Machine-Learning-Dorota-Bjoorn-ugpTJiOr",
   "language": "python",
   "name": "python3"
  },
  "language_info": {
   "codemirror_mode": {
    "name": "ipython",
    "version": 3
   },
   "file_extension": ".py",
   "mimetype": "text/x-python",
   "name": "python",
   "nbconvert_exporter": "python",
   "pygments_lexer": "ipython3",
   "version": "3.9.13"
  },
  "orig_nbformat": 4,
  "vscode": {
   "interpreter": {
    "hash": "74d6eb8ce498fd91a2ca86b0b65600ff300631eb42ae7429d586d9932a69bb8a"
   }
  }
 },
 "nbformat": 4,
 "nbformat_minor": 2
}
