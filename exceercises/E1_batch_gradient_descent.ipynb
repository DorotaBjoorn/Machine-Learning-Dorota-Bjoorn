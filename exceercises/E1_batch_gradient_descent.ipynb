{
 "cells": [
  {
   "cell_type": "code",
   "execution_count": 2,
   "metadata": {},
   "outputs": [],
   "source": [
    "import pandas as pd\n",
    "import seaborn as sns\n",
    "import matplotlib.pyplot as plt\n",
    "import numpy as np"
   ]
  },
  {
   "attachments": {},
   "cell_type": "markdown",
   "metadata": {},
   "source": [
    "### 0. Simulate dataset"
   ]
  },
  {
   "cell_type": "code",
   "execution_count": 28,
   "metadata": {},
   "outputs": [
    {
     "data": {
      "text/plain": [
       "(array([[1.        , 0.37454012, 0.95071431],\n",
       "        [1.        , 0.73199394, 0.59865848],\n",
       "        [1.        , 0.15601864, 0.15599452],\n",
       "        ...,\n",
       "        [1.        , 0.75137509, 0.65695516],\n",
       "        [1.        , 0.95661462, 0.06895802],\n",
       "        [1.        , 0.05705472, 0.28218707]]),\n",
       " (1000, 3),\n",
       " (1000,),\n",
       " (1000, 1))"
      ]
     },
     "execution_count": 28,
     "metadata": {},
     "output_type": "execute_result"
    }
   ],
   "source": [
    "np.random.seed(42)\n",
    "\n",
    "samples = 1000\n",
    "features = 2\n",
    "\n",
    "X = np.random.rand(samples, features)\n",
    "X = np.c_[np.ones(len(X)), X]\n",
    "epsilon = np.random.randn(samples)\n",
    "\n",
    "y = 3 * X[:,1] + 5 * X[:,2] + 3 + epsilon\n",
    "y = y.reshape(samples,1) # y shape (1000,) -> (1000, 1)\n",
    "\n",
    "X, X.shape, epsilon.shape, y.shape\n",
    "\n",
    "#-----------------------\n",
    "# alt to calculate y by dot product\n",
    "# betas = np.array([3, 3, 5])\n",
    "# y = np.dot(X, betas) + epsilon\n"
   ]
  }
 ],
 "metadata": {
  "kernelspec": {
   "display_name": "Machine-Learning-Dorota-Bjoorn-ugpTJiOr",
   "language": "python",
   "name": "python3"
  },
  "language_info": {
   "codemirror_mode": {
    "name": "ipython",
    "version": 3
   },
   "file_extension": ".py",
   "mimetype": "text/x-python",
   "name": "python",
   "nbconvert_exporter": "python",
   "pygments_lexer": "ipython3",
   "version": "3.9.13"
  },
  "orig_nbformat": 4,
  "vscode": {
   "interpreter": {
    "hash": "74d6eb8ce498fd91a2ca86b0b65600ff300631eb42ae7429d586d9932a69bb8a"
   }
  }
 },
 "nbformat": 4,
 "nbformat_minor": 2
}
