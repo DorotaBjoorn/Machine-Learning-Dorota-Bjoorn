{
 "cells": [
  {
   "cell_type": "code",
   "execution_count": 2,
   "metadata": {},
   "outputs": [],
   "source": [
    "import pandas as pd\n",
    "import seaborn as sns\n",
    "import matplotlib.pyplot as plt\n",
    "import numpy as np"
   ]
  },
  {
   "attachments": {},
   "cell_type": "markdown",
   "metadata": {},
   "source": [
    "### 0. Simulate dataset"
   ]
  },
  {
   "cell_type": "code",
   "execution_count": 48,
   "metadata": {},
   "outputs": [
    {
     "name": "stdout",
     "output_type": "stream",
     "text": [
      "(1000,)\n"
     ]
    },
    {
     "data": {
      "text/plain": [
       "(array([[1.        , 0.37454012, 0.95071431],\n",
       "        [1.        , 0.73199394, 0.59865848],\n",
       "        [1.        , 0.15601864, 0.15599452]]),\n",
       " (1000, 3),\n",
       " array([[7.9992093 ],\n",
       "        [7.36239389],\n",
       "        [4.02154963]]),\n",
       " (1000, 1))"
      ]
     },
     "execution_count": 48,
     "metadata": {},
     "output_type": "execute_result"
    }
   ],
   "source": [
    "np.random.seed(42)\n",
    "\n",
    "samples = 1000\n",
    "features = 2\n",
    "\n",
    "X = np.random.rand(samples, features)\n",
    "X = np.c_[np.ones(len(X)), X]\n",
    "epsilon = np.random.randn(samples)\n",
    "\n",
    "y = 3 * X[:,1] + 5 * X[:,2] + 3 + epsilon\n",
    "y = y.reshape(samples,1) # y shape (1000,) -> (1000, 1)\n",
    "\n",
    "print(epsilon.shape)\n",
    "X[:3], X.shape, y[:3], y.shape\n",
    "\n",
    "\n",
    "#-----------------------\n",
    "# alt to calculate y by dot product\n",
    "# betas = np.array([3, 3, 5])\n",
    "# y = np.dot(X, betas) + epsilon\n"
   ]
  },
  {
   "attachments": {},
   "cell_type": "markdown",
   "metadata": {},
   "source": [
    "### 1. Gradient descent - learning rate"
   ]
  },
  {
   "attachments": {},
   "cell_type": "markdown",
   "metadata": {},
   "source": [
    "#### a)"
   ]
  },
  {
   "cell_type": "code",
   "execution_count": 65,
   "metadata": {},
   "outputs": [],
   "source": [
    "# create gradient descent function updating theta epochs number of times\n",
    "np.random.seed(42)\n",
    "\n",
    "def batch_gradient_descent(X, y, learning_rate, epochs):\n",
    "    m = len(X)\n",
    "\n",
    "    theta = np.random.randn(X.shape[1], 1) # generate initial random theta with # rows dimension matching # columns in X (X.shape[1])\n",
    "\n",
    "    for _ in range(epochs):\n",
    "        gradient = 2 / m * X.T @ (X @ theta - y)\n",
    "        theta -= learning_rate * gradient\n",
    "    return theta.reshape(-1)\n"
   ]
  },
  {
   "cell_type": "code",
   "execution_count": 66,
   "metadata": {},
   "outputs": [
    {
     "data": {
      "text/plain": [
       "array([3.12072048, 2.95398747, 4.83284202])"
      ]
     },
     "execution_count": 66,
     "metadata": {},
     "output_type": "execute_result"
    }
   ],
   "source": [
    "# testing functioin to generate theta\n",
    "theta = batch_gradient_descent(X, y, learning_rate = .1, epochs = 500)\n",
    "theta"
   ]
  },
  {
   "cell_type": "code",
   "execution_count": 70,
   "metadata": {},
   "outputs": [
    {
     "name": "stdout",
     "output_type": "stream",
     "text": [
      "[[3.12149913 2.95341851 4.83194248]\n",
      " [3.1223724  2.95261896 4.83108972]\n",
      " [3.11924438 2.95513083 4.83448469]], (100, 3)\n"
     ]
    }
   ],
   "source": [
    "# create array of thetas\n",
    "\n",
    "learning_rate = 0.1\n",
    "epochs = 500\n",
    "step = 5\n",
    "\n",
    "epoch_list = range(1, epochs, step)\n",
    "thetas = np.array([batch_gradient_descent(X, y, learning_rate = learning_rate, epochs = epochs) for epoch in epoch_list])\n",
    "\n",
    "print(f'{thetas[:3]}, {thetas.shape}')"
   ]
  },
  {
   "cell_type": "code",
   "execution_count": null,
   "metadata": {},
   "outputs": [],
   "source": []
  }
 ],
 "metadata": {
  "kernelspec": {
   "display_name": "Machine-Learning-Dorota-Bjoorn-ugpTJiOr",
   "language": "python",
   "name": "python3"
  },
  "language_info": {
   "codemirror_mode": {
    "name": "ipython",
    "version": 3
   },
   "file_extension": ".py",
   "mimetype": "text/x-python",
   "name": "python",
   "nbconvert_exporter": "python",
   "pygments_lexer": "ipython3",
   "version": "3.9.13"
  },
  "orig_nbformat": 4,
  "vscode": {
   "interpreter": {
    "hash": "74d6eb8ce498fd91a2ca86b0b65600ff300631eb42ae7429d586d9932a69bb8a"
   }
  }
 },
 "nbformat": 4,
 "nbformat_minor": 2
}
