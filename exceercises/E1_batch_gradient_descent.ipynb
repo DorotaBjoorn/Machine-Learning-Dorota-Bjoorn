{
 "cells": [
  {
   "cell_type": "code",
   "execution_count": 96,
   "metadata": {},
   "outputs": [],
   "source": [
    "import pandas as pd\n",
    "import seaborn as sns\n",
    "import matplotlib.pyplot as plt\n",
    "import numpy as np"
   ]
  },
  {
   "attachments": {},
   "cell_type": "markdown",
   "metadata": {},
   "source": [
    "### 0. Simulate dataset"
   ]
  },
  {
   "cell_type": "code",
   "execution_count": 98,
   "metadata": {},
   "outputs": [
    {
     "name": "stdout",
     "output_type": "stream",
     "text": [
      "(1000,)\n"
     ]
    },
    {
     "data": {
      "text/plain": [
       "(array([[1.        , 0.37454012, 0.95071431],\n",
       "        [1.        , 0.73199394, 0.59865848],\n",
       "        [1.        , 0.15601864, 0.15599452]]),\n",
       " (1000, 3),\n",
       " array([[7.9992093 ],\n",
       "        [7.36239389],\n",
       "        [4.02154963]]),\n",
       " (1000, 1))"
      ]
     },
     "execution_count": 98,
     "metadata": {},
     "output_type": "execute_result"
    }
   ],
   "source": [
    "# np.random.seed(42)\n",
    "\n",
    "# samples = 1000\n",
    "# features = 2\n",
    "\n",
    "# X = np.random.rand(samples, features)\n",
    "# X = np.c_[np.ones(len(X)), X]\n",
    "\n",
    "# # all calculations with 1-dim shape and redo y to 2-dim ...\n",
    "# epsilon = np.random.randn(samples) # -> shape(1000,)\n",
    "# y = 3 * X[:,1] + 5 * X[:,2] + 3 + epsilon # X[:,1].shape (1000,) even though X.shape är (1000,3)\n",
    "# y = y.reshape(samples,1) # y.shape (1000,) -> (1000, 1)\n",
    "\n",
    "# print(epsilon.shape)\n",
    "# X[:3], X.shape, y[:3], y.shape\n",
    "\n",
    "\n",
    "# #-----------------------\n",
    "# alt to calculate y by dot product\n",
    "# betas = np.array([3, 3, 5])\n",
    "# y = np.dot(X, betas) + epsilon\n"
   ]
  },
  {
   "cell_type": "code",
   "execution_count": 110,
   "metadata": {},
   "outputs": [
    {
     "name": "stdout",
     "output_type": "stream",
     "text": [
      "(1000, 1)\n"
     ]
    },
    {
     "data": {
      "text/plain": [
       "(array([[1.        , 0.37454012, 0.95071431],\n",
       "        [1.        , 0.73199394, 0.59865848],\n",
       "        [1.        , 0.15601864, 0.15599452]]),\n",
       " (1000, 3),\n",
       " array([[7.9992093 ],\n",
       "        [7.36239389],\n",
       "        [4.02154963]]),\n",
       " (1000, 1))"
      ]
     },
     "execution_count": 110,
     "metadata": {},
     "output_type": "execute_result"
    }
   ],
   "source": [
    "# .... or a better solution to redo everthing to the shape we want so 2-dim in this case\n",
    "np.random.seed(42)\n",
    "\n",
    "samples = 1000\n",
    "features = 2\n",
    "\n",
    "X = np.random.rand(samples, features)\n",
    "X = np.c_[np.ones(len(X)), X]\n",
    "epsilon = np.random.randn(samples).reshape(len(X),1) # intinally is epsilon.shape(1000,) -> epsilon.shape (1000,1)\n",
    "y = 3 * X[:,1].reshape(len(X), 1) + 5 * X[:,2].reshape(len(X), 1) + 3 + epsilon\n",
    "\n",
    "\n",
    "print(epsilon.shape)\n",
    "X[:3], X.shape, y[:3], y.shape"
   ]
  },
  {
   "attachments": {},
   "cell_type": "markdown",
   "metadata": {},
   "source": [
    "### 1. Gradient descent - learning rate"
   ]
  },
  {
   "attachments": {},
   "cell_type": "markdown",
   "metadata": {},
   "source": [
    "#### a)"
   ]
  },
  {
   "cell_type": "code",
   "execution_count": 99,
   "metadata": {},
   "outputs": [],
   "source": [
    "# create gradient descent function updating theta epochs number of times\n",
    "\n",
    "def batch_gradient_descent(X, y, learning_rate, epochs):\n",
    "    m = len(X)\n",
    "\n",
    "    theta = np.random.randn(X.shape[1], 1) # generate initial random theta with # rows dimension matching # columns in X (X.shape[1])\n",
    "                                            # could generate theta with linspace\n",
    "\n",
    "    for _ in range(epochs):\n",
    "        gradient = 2 / m * X.T @ (X @ theta - y)\n",
    "        theta -= learning_rate * gradient\n",
    "    return theta.reshape(-1)\n"
   ]
  },
  {
   "cell_type": "code",
   "execution_count": 100,
   "metadata": {},
   "outputs": [
    {
     "data": {
      "text/plain": [
       "array([3.12412199, 2.95142955, 4.82898238])"
      ]
     },
     "execution_count": 100,
     "metadata": {},
     "output_type": "execute_result"
    }
   ],
   "source": [
    "# testing functioin to generate one theta after 500 epochs to see what it converges to\n",
    "theta = batch_gradient_descent(X, y, learning_rate = .1, epochs = 500)\n",
    "theta"
   ]
  },
  {
   "cell_type": "code",
   "execution_count": 101,
   "metadata": {},
   "outputs": [
    {
     "name": "stdout",
     "output_type": "stream",
     "text": [
      "[[3.12434015 2.95088446 4.82910329]\n",
      " [3.12173102 2.95342558 4.83150387]\n",
      " [3.12157394 2.95325909 4.83195733]\n",
      " [3.12151228 2.9534736  4.83186472]\n",
      " [3.12111856 2.95384225 4.83224127]], (100, 3)\n"
     ]
    }
   ],
   "source": [
    "# create array of all thetar returend while looping over epochs in epoch_list\n",
    "#?????????? varför blir thetas fel, dvs varför får en array av redan konvergerade värden?)\n",
    "\n",
    "learning_rate = 0.1\n",
    "epochs = 500\n",
    "step = 5\n",
    "\n",
    "epoch_list = range(1, epochs, step)\n",
    "thetas = np.array([batch_gradient_descent(X, y, learning_rate = learning_rate, epochs = epochs) for epoch in epoch_list])\n",
    "\n",
    "print(f'{thetas[:5]}, {thetas.shape}')"
   ]
  },
  {
   "cell_type": "code",
   "execution_count": 115,
   "metadata": {},
   "outputs": [
    {
     "data": {
      "text/plain": [
       "<function matplotlib.pyplot.show(close=None, block=None)>"
      ]
     },
     "execution_count": 115,
     "metadata": {},
     "output_type": "execute_result"
    },
    {
     "data": {
      "image/png": "[encoded data removed]",
      "text/plain": [
       "<Figure size 640x480 with 1 Axes>"
      ]
     },
     "metadata": {},
     "output_type": "display_data"
    }
   ],
   "source": [
    "# plot thetas as function of epochs\n",
    "# TODO gör denna plott snyggare med labels etc fix, ax = plt.plot\n",
    "\n",
    "plt.plot(epoch_list, thetas)\n",
    "plt.show"
   ]
  },
  {
   "attachments": {},
   "cell_type": "markdown",
   "metadata": {},
   "source": [
    "### b), c)"
   ]
  },
  {
   "cell_type": "code",
   "execution_count": 103,
   "metadata": {},
   "outputs": [
    {
     "name": "stdout",
     "output_type": "stream",
     "text": [
      "[[3.12143682 2.95344085 4.83203688]\n",
      " [3.1231695  2.95216316 4.83004639]\n",
      " [3.12187312 2.95295924 4.83169025]\n",
      " [3.12312429 2.95217884 4.83011541]\n",
      " [3.11742866 2.95666383 4.83638291]], (250, 3)\n"
     ]
    }
   ],
   "source": [
    "# repeat a) but with different value for learning_rate, epochs and step_size\n",
    "\n",
    "learning_rate = 0.01\n",
    "epochs = 5000\n",
    "step = 20\n",
    "\n",
    "epoch_list = range(1, epochs, step)\n",
    "thetas = np.array([batch_gradient_descent(X, y, learning_rate = learning_rate, epochs = epochs) for epoch in epoch_list])\n",
    "\n",
    "print(f'{thetas[:5]}, {thetas.shape}')"
   ]
  },
  {
   "cell_type": "code",
   "execution_count": 104,
   "metadata": {},
   "outputs": [
    {
     "data": {
      "text/plain": [
       "[<matplotlib.lines.Line2D at 0x18810acef70>,\n",
       " <matplotlib.lines.Line2D at 0x18810acefd0>,\n",
       " <matplotlib.lines.Line2D at 0x18810adc040>]"
      ]
     },
     "execution_count": 104,
     "metadata": {},
     "output_type": "execute_result"
    },
    {
     "data": {
      "image/png": "[encoded data removed]",
      "text/plain": [
       "<Figure size 640x480 with 1 Axes>"
      ]
     },
     "metadata": {},
     "output_type": "display_data"
    }
   ],
   "source": [
    "plt.plot(epoch_list, thetas)"
   ]
  },
  {
   "attachments": {},
   "cell_type": "markdown",
   "metadata": {},
   "source": [
    "---\n",
    "### 2. Stochastic gradient descent - learning rate"
   ]
  },
  {
   "attachments": {},
   "cell_type": "markdown",
   "metadata": {},
   "source": [
    "---\n",
    "### 3. Mini Batch Gradient Descent"
   ]
  },
  {
   "cell_type": "markdown",
   "metadata": {},
   "source": []
  }
 ],
 "metadata": {
  "kernelspec": {
   "display_name": "Machine-Learning-Dorota-Bjoorn-ugpTJiOr",
   "language": "python",
   "name": "python3"
  },
  "language_info": {
   "codemirror_mode": {
    "name": "ipython",
    "version": 3
   },
   "file_extension": ".py",
   "mimetype": "text/x-python",
   "name": "python",
   "nbconvert_exporter": "python",
   "pygments_lexer": "ipython3",
   "version": "3.9.13"
  },
  "orig_nbformat": 4,
  "vscode": {
   "interpreter": {
    "hash": "74d6eb8ce498fd91a2ca86b0b65600ff300631eb42ae7429d586d9932a69bb8a"
   }
  }
 },
 "nbformat": 4,
 "nbformat_minor": 2
}
