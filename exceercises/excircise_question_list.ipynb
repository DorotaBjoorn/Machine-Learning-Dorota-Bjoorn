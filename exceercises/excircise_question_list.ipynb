{
 "cells": [
  {
   "attachments": {},
   "cell_type": "markdown",
   "metadata": {},
   "source": [
    "# E00\n",
    "\n",
    "Anteckningar:\n",
    "- X dist N(100, 100) är Normal dist(mu, sigma)\n",
    "- addition är elementvis addition så tex beta_0 adderas till varje elementi i vektor beta_1*x_vektor\n",
    "- df för att köra test|split då den är designad för dataframes (skulle kunna göras med np)\n",
    "- np för matrisekvationer. Bra med dimensioner (m, n) och inte (m,) så reshapa\n",
    "- [1,2,3].shape är (3,) medan [[1,2,2]].shape är (3,1)]\n",
    "- om X.shape är (1000,3) blir ändå X[:,1].shape är (1000,) så behöver reshapas\n",
    "\n",
    "TODO: 4, 5"
   ]
  },
  {
   "attachments": {},
   "cell_type": "markdown",
   "metadata": {},
   "source": [
    "---\n",
    "# E01 Gradient descent\n",
    "\n",
    "Anteckningar:\n",
    "- skillad på np.random.randn (standard normal) och np.random.normal()\n",
    "- i codealong genereras steps med range. men skulle kunna använda np.linspace()\n",
    "\n",
    "Frågor:\n",
    "- 1a) Varför fr jag betas som en array av redan konvergerade värden? - TODO fråga någon mer"
   ]
  },
  {
   "attachments": {},
   "cell_type": "markdown",
   "metadata": {},
   "source": [
    "---\n",
    "# E02 Scikit-learn\n",
    "\n",
    "Anteckningar:\n",
    "- fit(X_train) in case of MinMaxScaler looks for min and max values\n",
    "- transform(X_train) and transform(X_test) does some kind of calculation, for example X' using the found min and max for MinMaxScaler\n",
    "- fit_transform(X_train) and only transform (X_test)\n",
    "\n",
    "\n",
    "Frågor:\n",
    "\n",
    "TODO: snagga till 3, gör 4"
   ]
  },
  {
   "attachments": {},
   "cell_type": "markdown",
   "metadata": {},
   "source": [
    "---\n",
    "# E03 Polynomial, overfitting, underfitting, regularization\n",
    "\n",
    "Anteckningar:\n",
    "- fit_transform() och dess varianter gör om df till np array\n",
    "\n",
    "Frågor:\n",
    "- varför är svaret samma för transform och fit_transform på scaled_X_test\n",
    "- spelar det roll vilken ordning man göra saker: PolynomialFetures, Train|test split, StandarScaler\n",
    "- skulle jag ha skapat df men bara numeriska kolumner för alla uppgifterna?\n",
    "- 5) X har 5 kolumner, df.get_dummies() ger 12, polynomial_fatures på de 12 kolumnerna ger 1819 kolumner! bra idé att avända get_dummmies()?\n",
    "- 5) PolynomialFeatures(bias = False) även om vi sedan använder andra modeller än LinearReg?\n",
    "- 5a) alfa = 10 stämmer ej med facit (alfa = 5 enligt facit), övriga beräkningar stämmer inte heller\n",
    "- 5a) skall man välja cv och i så fall till vad?\n",
    "- 5b, 5c) resultatet stämmer inte alls\n",
    "\n",
    "TODO: plotta klart uppgift 0"
   ]
  },
  {
   "attachments": {},
   "cell_type": "markdown",
   "metadata": {},
   "source": [
    "----\n",
    "----\n",
    "# Plottning\n",
    "        - fig, ax = plt.figure(), plt.axes() och sedan ax.något på varje rad.\n",
    "        - när måste man ha med plt.figure()?\n",
    "        - fig, ax = subplots() men inte , något\n",
    "        - ax = sns.pairplot() men sns.pairplot() funkar också\n",
    "        - ax.set"
   ]
  },
  {
   "attachments": {},
   "cell_type": "markdown",
   "metadata": {},
   "source": [
    "Ex från codealong 03\n",
    "\n",
    "```py\n",
    "Matlabstil:\n",
    "plt.plot(range(1,10), RMSE_val[:9], '--o')\n",
    "plt.xlabel('Degree')\n",
    "plt.ylabel('RMSE') \n",
    "plt.title('RMSE on validation data for idfferent dgrees of polynomial')\n",
    "\n",
    "Pythonstil:\n",
    "fig, ax = plt.figure(), plt.axes()\n",
    "ax.plot(range(1,10), RMSE_val[:9],'--o', label = \"Validation\")\n",
    "ax.set(xlabel = \"Degree\", ylabel = \"RMSE\", title = \"RMSE on validation data for different degrees of polynomial\");"
   ]
  },
  {
   "cell_type": "markdown",
   "metadata": {},
   "source": []
  }
 ],
 "metadata": {
  "kernelspec": {
   "display_name": "Machine-Learning-Dorota-Bjoorn-ugpTJiOr",
   "language": "python",
   "name": "python3"
  },
  "language_info": {
   "name": "python",
   "version": "3.9.13"
  },
  "orig_nbformat": 4,
  "vscode": {
   "interpreter": {
    "hash": "74d6eb8ce498fd91a2ca86b0b65600ff300631eb42ae7429d586d9932a69bb8a"
   }
  }
 },
 "nbformat": 4,
 "nbformat_minor": 2
}
