{
 "cells": [
  {
   "attachments": {},
   "cell_type": "markdown",
   "metadata": {},
   "source": [
    "# L00, E00\n",
    "\n",
    "Anteckningar:\n",
    "- X dist N(100, 100) är Normal dist(mu, sigma)\n",
    "- addition är elementvis addition så tex beta_0 adderas till varje elementi i vektor beta_1*x_vektor\n",
    "- df för att köra test|split då den är designad för dataframes (skulle kunna göras med np)\n",
    "- np för matrisekvationer. Bra med dimensioner (m, n) och inte (m,) så reshapa\n",
    "- [1,2,3].shape är (3,) medan [[1,2,2]].shape är (3,1)]\n",
    "- om X.shape är (1000,3) blir ändå X[:,1].shape är (1000,) så behöver reshapas"
   ]
  },
  {
   "attachments": {},
   "cell_type": "markdown",
   "metadata": {},
   "source": [
    "---\n",
    "# L01, E01 Gradient descent\n",
    "\n",
    "Anteckningar:\n",
    "- skillad på np.random.randn (standard normal) och np.random.normal()\n",
    "- i codealong genereras steps med range. men skulle kunna använda np.linspace()"
   ]
  },
  {
   "attachments": {},
   "cell_type": "markdown",
   "metadata": {},
   "source": [
    "---\n",
    "# L02, E02 Scikit-learn\n",
    "\n",
    "Anteckningar:\n",
    "- fit(X_train) in case of MinMaxScaler looks for min and max values\n",
    "- transform(X_train) and transform(X_test) does some kind of calculation, for example X' using the found min and max for MinMaxScaler\n",
    "- fit_transform(X_train) and only transform (X_test)"
   ]
  },
  {
   "attachments": {},
   "cell_type": "markdown",
   "metadata": {},
   "source": [
    "---\n",
    "# L03, L04, E03 Polynomial, overfitting, underfitting, regularization\n",
    "\n",
    "Anteckningar:\n",
    "- fit_transform() och dess varianter gör om df till np array\n",
    "- cv = 5 eller cv = 10 är bra val i k-fold cross-validation\n",
    "- scaling (ex StandardScaler) måste göras på splittade data, annars spelar inte ordningen roll på ex PolynomialFeatures och train|test split\n",
    "- använd get_dummies() istället för att ta bort icke-numeriska kolumner\n",
    "- df = pd.get_dummies(df, drop_first=True) bra sätt att få med även icke-numeriska data, olika hue delas upp i olika kolumner\n",
    "- df = pd.get_dummies(df, drop_first=True) tar bort självklara kolumner, tex om hue är male/female behålls bara male och där male = 0 underförstått female\n"
   ]
  },
  {
   "attachments": {},
   "cell_type": "markdown",
   "metadata": {},
   "source": [
    "---\n",
    "# L5, E4 - Logistic regression\n",
    "\n",
    "Anteckningar:\n",
    "- y can bara ha en vektor\n",
    "- target klassas som 0, 1, 2 eller om 2 classer via get_dummies() till 1 column. Ofta funkar dock textdata då detär implementeras så i sklearn.\n",
    "- features måste vara numeriska eller klassas om via get_dummies()\n",
    "- outliers kan hanteras på olika sätt\n",
    "    - ta bort hela raden där outliern har hittats även om resterande kolumner OK på den raden\n",
    "    - ersätta värdet med NaN och sedan NaN med median, medium eller applicera linreg för att predikta värdet\n",
    "- då man tränar en modell, kan man använda funktioen model.score(X_pred, y_pred) och model.score(X_test, y_test) fär att bedömma modellen som i Intro till ML boken\n",
    "- accuracy_score(y_test, y_pred) och model.score(X_test, y_test) ger samma resultat"
   ]
  },
  {
   "attachments": {},
   "cell_type": "markdown",
   "metadata": {},
   "source": [
    "---\n",
    "# L6, E05 - KNN\n",
    "\n",
    "Anteckningar:\n",
    "- KKN classifier kräver 2D arrayer så om X_train, X_val, X_test har fler dimensioner behöver dessa reshapas till 2D\n",
    "- tumregel för att välja k är att ta ett udda ~sqrt(# samples i y_test)\n",
    "- välj k med bäst metric from tuning with traindata\n",
    "- KNN compares test_vector with other vectors to find the most similar one"
   ]
  },
  {
   "attachments": {},
   "cell_type": "markdown",
   "metadata": {},
   "source": [
    "----\n",
    "----\n",
    "# Plottning\n",
    "        - fig, ax = plt.figure(), plt.axes() och sedan ax.något på varje rad.\n",
    "        - när måste man ha med plt.figure()?\n",
    "        - fig, ax = subplots() men inte , något\n",
    "        - ax = sns.pairplot() men sns.pairplot() funkar också\n",
    "        - ax.set"
   ]
  },
  {
   "attachments": {},
   "cell_type": "markdown",
   "metadata": {},
   "source": [
    "Ex från codealong 03\n",
    "\n",
    "```py\n",
    "Matlabstil:\n",
    "plt.plot(range(1,10), RMSE_val[:9], '--o')\n",
    "plt.xlabel('Degree')\n",
    "plt.ylabel('RMSE') \n",
    "plt.title('RMSE on validation data for idfferent dgrees of polynomial')\n",
    "\n",
    "Pythonstil:\n",
    "fig, ax = plt.figure(), plt.axes()\n",
    "ax.plot(range(1,10), RMSE_val[:9],'--o', label = \"Validation\")\n",
    "ax.set(xlabel = \"Degree\", ylabel = \"RMSE\", title = \"RMSE on validation data for different degrees of polynomial\");\n",
    "\n",
    "fig, ax = plt.subplots(1, 2, dpi=100, figsize = (10,4))\n",
    "for axe, col in zip(ax, [\"balance\", \"income\"]):\n",
    "    sns.boxplot(data=df, x=\"default\", y=col, ax=axe)\n",
    "\n",
    "#-------------------------------------\n",
    "fig, axes = plt.subplots(2,2, figsize = (16,8))\n",
    "y_cols = [\"Antal_avlidna_vecka\", \"Antal_fall_vecka\", \"Antal_fall_vecka\", \"Kum_antal_fall\"]\n",
    "titles = [\"Antal avlidna per vecka\", \"Antal nya fall per vecka\", \"Antal nya fall och avlidna per vecka\", \"Kumulativt antal fall per vecka\"]\n",
    "y_labels = [\"Antal avlidna\", \"Antal fall\", \"Antal fall\", \"Ackumulerat antal fall\"]\n",
    "\n",
    "# common features for c), d), e), f)\n",
    "# axes.faltten creates a list-like object ([axes[0][0], axes[0][1], axes[1][0], axes[1][1]], ....)\n",
    "for ax, y_col, title, y_label in zip(axes.flatten(), y_cols, titles, y_labels):\n",
    "    sns.lineplot(data=df_veckodata_riket, x=\"Vecka\", y= y_col, ax = ax)\n",
    "    ax.set(title = title, ylabel=y_label)\n",
    "    ax.xaxis.set_major_locator(plt.MaxNLocator(5))\n",
    "\n",
    "# additional features for e)\n",
    "sns.lineplot(data=df_veckodata_riket, x=\"Vecka\", y=\"Antal_avlidna_vecka\", ax = axes[1][0], linestyle=\"dashed\")\n",
    "axes[1][0].set(yscale = \"log\")\n",
    "axes[1][0].legend({\"Antal fall\": \"Antal_fall_vecka\", \"Antal avlidna\": \"Antal_avlidna_vecka\"})"
   ]
  },
  {
   "cell_type": "markdown",
   "metadata": {},
   "source": []
  }
 ],
 "metadata": {
  "kernelspec": {
   "display_name": "Machine-Learning-Dorota-Bjoorn-ugpTJiOr",
   "language": "python",
   "name": "python3"
  },
  "language_info": {
   "codemirror_mode": {
    "name": "ipython",
    "version": 3
   },
   "file_extension": ".py",
   "mimetype": "text/x-python",
   "name": "python",
   "nbconvert_exporter": "python",
   "pygments_lexer": "ipython3",
   "version": "3.9.13"
  },
  "orig_nbformat": 4,
  "vscode": {
   "interpreter": {
    "hash": "74d6eb8ce498fd91a2ca86b0b65600ff300631eb42ae7429d586d9932a69bb8a"
   }
  }
 },
 "nbformat": 4,
 "nbformat_minor": 2
}
