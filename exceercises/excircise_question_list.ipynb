{
 "cells": [
  {
   "attachments": {},
   "cell_type": "markdown",
   "metadata": {},
   "source": [
    "# E00\n",
    "\n",
    "Anteckningar:\n",
    "- X dist N(100, 100) är Normal dist(mu, sigma)\n",
    "- addition är elementvis addition så tex beta_0 adderas till varje elementi i vektor beta_1*x_vektor\n",
    "\n",
    "Frågor:\n",
    "\n"
   ]
  },
  {
   "attachments": {},
   "cell_type": "markdown",
   "metadata": {},
   "source": [
    "# E01\n",
    "\n",
    "Anteckningar:\n",
    "\n",
    "\n",
    "Frågor:\n",
    "\n"
   ]
  }
 ],
 "metadata": {
  "kernelspec": {
   "display_name": "Machine-Learning-Dorota-Bjoorn-ugpTJiOr",
   "language": "python",
   "name": "python3"
  },
  "language_info": {
   "name": "python",
   "version": "3.9.13"
  },
  "orig_nbformat": 4,
  "vscode": {
   "interpreter": {
    "hash": "74d6eb8ce498fd91a2ca86b0b65600ff300631eb42ae7429d586d9932a69bb8a"
   }
  }
 },
 "nbformat": 4,
 "nbformat_minor": 2
}
