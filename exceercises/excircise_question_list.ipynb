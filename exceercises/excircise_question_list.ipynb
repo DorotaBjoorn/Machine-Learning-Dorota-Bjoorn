{
 "cells": [
  {
   "attachments": {},
   "cell_type": "markdown",
   "metadata": {},
   "source": [
    "# E00\n",
    "\n",
    "Anteckningar:\n",
    "- X dist N(100, 100) är Normal dist(mu, sigma)\n",
    "- addition är elementvis addition så tex beta_0 adderas till varje elementi i vektor beta_1*x_vektor\n",
    "\n",
    "Frågor:\n",
    "- 0a)  varför är dim (381,) och inte (381,1). Spelar det någon roll?\n",
    "- 0b)  vill man ha data som df eller np enklast. Verkar gå fram och tilbaka där df för train|test split och np för normalekvationen\n",
    "- 3a) Är det ok att köra OLS på testdata för att få fram sanna regressionen för testdata och kunna sedan jämföra med med den beräknade regressionsmodellen från träningsdata?\n",
    "- blandar ihop y_hat och y_pred\n",
    "\n"
   ]
  },
  {
   "attachments": {},
   "cell_type": "markdown",
   "metadata": {},
   "source": [
    "# E01\n",
    "\n",
    "Anteckningar:\n",
    "\n",
    "\n",
    "Frågor:\n",
    "- skillad på np.random.randn (standard normal) och np.random.normal(), varför används randn på theta\n",
    "- i codealong skilland på steps och epochs\n",
    "- i codealong genereras steps med range. varför inte med np.linspace()?\n",
    "- i codealong varför används step in epochs och inte epoch in epochs? Skiillnad på step och epoch?\n",
    "<br>\n",
    "- 0) Varför olika y.shape?\n",
    "        - epsilon = np.random.randn(samples) ger epsilon.shape ((1000,) och y.shape (1000,)\n",
    "        - epsilon = np.random.randn(samples,1) ger epsilon.shape ((1000,1) och y.shape (1000,1000)\n",
    "        - vilken y.shape vill man ha? (1000,) eller (1000, 1) och varför?\n",
    "\n",
    "\n"
   ]
  },
  {
   "cell_type": "markdown",
   "metadata": {},
   "source": []
  }
 ],
 "metadata": {
  "kernelspec": {
   "display_name": "Machine-Learning-Dorota-Bjoorn-ugpTJiOr",
   "language": "python",
   "name": "python3"
  },
  "language_info": {
   "name": "python",
   "version": "3.9.13"
  },
  "orig_nbformat": 4,
  "vscode": {
   "interpreter": {
    "hash": "74d6eb8ce498fd91a2ca86b0b65600ff300631eb42ae7429d586d9932a69bb8a"
   }
  }
 },
 "nbformat": 4,
 "nbformat_minor": 2
}
